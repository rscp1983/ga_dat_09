{
 "cells": [
  {
   "cell_type": "markdown",
   "metadata": {},
   "source": [
    "<img src=\"http://imgur.com/1ZcRyrc.png\" style=\"float: left; margin: 20px; height: 55px\">\n",
    "\n",
    "# Project 1: Python Coding Exercises\n",
    "\n",
    "_Authors: Joseph Nelson (DC) _\n",
    "\n",
    "---"
   ]
  },
  {
   "cell_type": "markdown",
   "metadata": {},
   "source": [
    "The following code challenges are drawn from common exercises used in technical interviews.\n",
    "\n",
    "Please note that there may be several ways to approach each challenge. If you get stuck, try mapping out your approach in pseudocode first. Finally, while solutions to problems like these may be found online, remember that if you copy/paste code that you can't explain, you'll be missing out on the point of the project. The only way to truly learn a new skill is through practice, trial, and error - we can only help you improve by understanding where you are having trouble."
   ]
  },
  {
   "cell_type": "markdown",
   "metadata": {},
   "source": [
    "### Challenge 1: Largest Palindrome\n",
    "A palindromic number reads the same both ways. For example, 1234321 is a palindrome. The largest palindrome made from the product of two two-digit numbers is 9009 = 91 × 99. Find the largest palindrome made from the product of two three-digit numbers. Afterward, write a brief explanation walking through your code's logic in markdown."
   ]
  },
  {
   "cell_type": "code",
   "execution_count": 11,
   "metadata": {},
   "outputs": [
    {
     "data": {
      "text/plain": [
       "906609"
      ]
     },
     "execution_count": 11,
     "metadata": {},
     "output_type": "execute_result"
    }
   ],
   "source": [
    "#Created a function which tests if a number is a palindrome using String indexing & boolean\n",
    "def is_palindrome(int):\n",
    "    if str(int) == str(int)[::-1]:\n",
    "        return True\n",
    "    else:\n",
    "        return False\n",
    "\n",
    "    \n",
    "#Defined the list palindrome, I did this after finding out you could get the max of a list\n",
    "palindrome = []\n",
    "\n",
    "\n",
    "#For loop to get the products of two three-digit numbers starting from 999\n",
    "#If statement to check if palindrome and include into the list palindrome        \n",
    "\n",
    "for int_01 in range(999,100,-1):\n",
    "    for int_02 in range (999,100,-1):\n",
    "        int_03 = int_01*int_02  \n",
    "        if is_palindrome(int_03):\n",
    "            palindrome.append(int_03)\n",
    "\n",
    "#Printing the maximum value of the list palindrome \n",
    "max(palindrome) "
   ]
  },
  {
   "cell_type": "markdown",
   "metadata": {},
   "source": [
    "<span style=\"color:blue\">\n",
    "Comments\n",
    "<br>\n",
    "<span style=\"color:blue\">- Great use of string indexing to check if the number is a palindrome <br>\n",
    "<span style=\"color:blue\">-Also, the question is asking for two three-digit numbers, so technically your range should not end in 900. <br>\n",
    "<span style=\"color:blue\">- Storing all the answers in a list is not necessary to get the max product. You have already set the loop to start from 999x999. By right, the first palindrome that you find will be the largest, so you can try to see what you would change in your code so that it uses the least computing power.\n"
   ]
  },
  {
   "cell_type": "markdown",
   "metadata": {},
   "source": [
    "\n",
    "### Challenge 2: Summation of Primes\n",
    "The sum of the primes below 10 is 2 + 3 + 5 + 7 = 17. Find the sum of all the primes below 2,000. Afterward, write a brief explanation walking through your code's logic in markdown."
   ]
  },
  {
   "cell_type": "markdown",
   "metadata": {},
   "source": [
    "### Notes\n",
    "- A prime number is a natural number greater than 1 that cannot be formed by multiplying two smaller natural numbers\n",
    "- Sieve of Eratosthenes https://en.wikipedia.org/wiki/Sieve_of_Eratosthenes\n",
    "- Iteratively marking as composite (i.e., not prime) the multiples of each prime, starting with the 1st  prime number, 2\n",
    "- Multiples of a given prime are generated as a sequence of numbers starting from that prime, with constant difference between them that is equal to that prime"
   ]
  },
  {
   "cell_type": "code",
   "execution_count": 29,
   "metadata": {},
   "outputs": [
    {
     "data": {
      "text/plain": [
       "277050"
      ]
     },
     "execution_count": 29,
     "metadata": {},
     "output_type": "execute_result"
    }
   ],
   "source": [
    "#First part of the code is initializing the sieve, marking all the numbers as prime or True\n",
    "#Second part of the code is going through the numbers and marking multiples of a given prime as not prime or False\n",
    "#Third part of the code is going through all the numbers which are marked True and passing this to a list called primes\n",
    "#Finally getting the sum of the function sieve of eratosthenes\n",
    "\n",
    "def sieve_of_eratosthenes(int_target):\n",
    "    \n",
    "    sieve = [True for i in range(int_target)]\n",
    "    sieve[0:1] = [False, False]\n",
    "    \n",
    "    for int_test in range(2, int_target):\n",
    "        if sieve[int_test]:\n",
    "            for i in range(2 * int_test, int_target, int_test):\n",
    "                sieve[i] = False\n",
    "    \n",
    "    primes = []\n",
    "    for i in range(2, int_target):\n",
    "        if sieve[i]:\n",
    "            primes.append(i)\n",
    "    return primes\n",
    "\n",
    "sum(sieve_of_eratosthenes(2000))"
   ]
  },
  {
   "cell_type": "markdown",
   "metadata": {},
   "source": [
    "<span style=\"color:blue\">\n",
    "Comments\n",
    "<br>\n",
    "<span style=\"color:blue\">- Very interesting way of solving this question! Good job! <br>\n",
    "<span style=\"color:blue\">- Alternatively, you can use modulo to see if a number is prime or not, if you have time, you can give that a try as well!\n"
   ]
  },
  {
   "cell_type": "markdown",
   "metadata": {},
   "source": [
    "### Challenge 3: Multiples of 3 and 5\n",
    "If we list all of the natural numbers below 10 that are multiples of 3 or 5, we get 3, 5, 6, and 9. The sum of these multiples is 23. Find the sum of all the multiples of 3 and 5 below 1,000. Afterward, write a brief explanation walking through your code's logic in markdown."
   ]
  },
  {
   "cell_type": "code",
   "execution_count": 34,
   "metadata": {},
   "outputs": [
    {
     "ename": "TypeError",
     "evalue": "'int' object is not callable",
     "output_type": "error",
     "traceback": [
      "\u001b[0;31m---------------------------------------------------------------------------\u001b[0m",
      "\u001b[0;31mTypeError\u001b[0m                                 Traceback (most recent call last)",
      "\u001b[0;32m<ipython-input-34-8d91edfb2513>\u001b[0m in \u001b[0;36m<module>\u001b[0;34m()\u001b[0m\n\u001b[1;32m      8\u001b[0m \u001b[0;34m\u001b[0m\u001b[0m\n\u001b[1;32m      9\u001b[0m \u001b[0;31m#Using set function on the list to take out duplicates before applying the sum function\u001b[0m\u001b[0;34m\u001b[0m\u001b[0;34m\u001b[0m\u001b[0m\n\u001b[0;32m---> 10\u001b[0;31m \u001b[0msum\u001b[0m\u001b[0;34m(\u001b[0m\u001b[0mset\u001b[0m\u001b[0;34m(\u001b[0m\u001b[0mmultiples\u001b[0m\u001b[0;34m)\u001b[0m\u001b[0;34m)\u001b[0m\u001b[0;34m\u001b[0m\u001b[0m\n\u001b[0m",
      "\u001b[0;31mTypeError\u001b[0m: 'int' object is not callable"
     ]
    }
   ],
   "source": [
    "#Initialize a list to contain the multiples\n",
    "multiples = []\n",
    "\n",
    "#For loop to check multiples of 3 and 5 in the range, using the mod operand, append into the multiples list\n",
    "for i in range(0,1000):\n",
    "    if (i%3 == 0 or i%5 ==0):\n",
    "         multiples.append(i)\n",
    "\n",
    "#Using set function on the list to take out duplicates before applying the sum function\n",
    "sum(set(multiples))"
   ]
  },
  {
   "cell_type": "markdown",
   "metadata": {},
   "source": [
    "<span style=\"color:blue\">\n",
    "Comments\n",
    "<br>\n",
    "<span style=\"color:blue\">-The parentheses are unneccessary for the if loop. If you use them, it would make more sense to write it this way -> (i%3 == 0) or (i%5 ==0) to show the two conditions :) <br>\n",
    "<span style=\"color:blue\">-You would not have duplicates before applying the sum function because the for loop only goes through the range once and in sequence. <br>\n",
    "<span style=\"color:blue\">- Try to see if you can think about how you can get the sum without having to store the numbers in a list. Hint: declare an int variable and see how you can add your \"i\" in every loop.\n"
   ]
  },
  {
   "cell_type": "code",
   "execution_count": 31,
   "metadata": {},
   "outputs": [
    {
     "name": "stdout",
     "output_type": "stream",
     "text": [
      "233168\n"
     ]
    }
   ],
   "source": [
    "sum=0\n",
    "for i in range(0,1000):\n",
    "    if (i%3 == 0 or i%5 ==0):\n",
    "        sum=sum+i\n",
    "print(sum)"
   ]
  },
  {
   "cell_type": "markdown",
   "metadata": {},
   "source": [
    "### Challenge 4: String Compressor\n",
    "Implement a method to perform basic string compression using the counts of repeated characters. (This is called run-length encoding.) For example, the string \"aabcccccaaa\" would become a2b1c5a3. If the “compressed” string would not become smaller than the original string, your method should return the original string. You can assume the string has only uppercase and lowercase letters (a–z). Specify whether your solution is case sensitive or case insensitive and what you would need to change to make it the other. Afterward, write a brief explanation walking through your code's logic in markdown."
   ]
  },
  {
   "cell_type": "markdown",
   "metadata": {},
   "source": [
    "https://stackoverflow.com/questions/538346/iterating-over-a-string\n",
    "\n",
    "https://stackoverflow.com/questions/20521862/pythonic-way-of-converting-integers-to-string\n",
    "\n",
    "https://stackoverflow.com/questions/12453580/concatenate-item-in-list-to-strings"
   ]
  },
  {
   "cell_type": "code",
   "execution_count": 3,
   "metadata": {},
   "outputs": [
    {
     "data": {
      "text/plain": [
       "'aaabcde'"
      ]
     },
     "execution_count": 3,
     "metadata": {},
     "output_type": "execute_result"
    }
   ],
   "source": [
    "def smash(str):\n",
    "   \n",
    "   #str = str.upper()\n",
    "   #str = str.lower() \n",
    "    \n",
    "    char_count = 0\n",
    "    letter = str[0]\n",
    "    smashed = []\n",
    "\n",
    "#Iterate through the string, with a counter which increases if i is == to the character\n",
    "#Once fails, we append the letter and number into the list\n",
    "#Initialize the letter to be the start and reset counter at 1\n",
    "#Append the last character via the catch\n",
    "    \n",
    "    for i in str:\n",
    "        if i == letter:\n",
    "            char_count += 1\n",
    "        else:\n",
    "            smashed.append(letter + repr(char_count))\n",
    "            letter = i\n",
    "            char_count = 1\n",
    "    smashed.append(letter + repr(char_count)) \n",
    "    \n",
    "#Check on character lengths before returing the string\n",
    "    if len(\"\".join(smashed)) > len(str):\n",
    "        return str\n",
    "    else:\n",
    "        return \"\".join(smashed)\n",
    "\n",
    "smash('aaabcde')"
   ]
  },
  {
   "cell_type": "markdown",
   "metadata": {},
   "source": [
    "<span style=\"color:blue\">\n",
    "Comments\n",
    "<br>\n",
    "<span style=\"color:blue\">-Great job!\n",
    "\n"
   ]
  },
  {
   "cell_type": "markdown",
   "metadata": {},
   "source": [
    "### *BONUS* Challenge: FizzBuzz\n",
    "Write a program that prints all of the numbers from 1 to 100. For multiples of 3, instead of the number, print \"Fizz;\" for multiples of 5, print \"Buzz.\" For numbers that are multiples of both 3 and 5, print \"FizzBuzz.\" Afterward, write a brief explanation walking through your code's logic in markdown."
   ]
  },
  {
   "cell_type": "code",
   "execution_count": 18,
   "metadata": {},
   "outputs": [
    {
     "name": "stdout",
     "output_type": "stream",
     "text": [
      "[1, 2, 'Fizz', 4, 'Buzz', 'Fizz', 7, 8, 'Fizz', 'Buzz', 11, 'Fizz', 13, 14, 'FizzBuzz', 16, 17, 'Fizz', 19, 'Buzz', 'Fizz', 22, 23, 'Fizz', 'Buzz', 26, 'Fizz', 28, 29, 'FizzBuzz', 31, 32, 'Fizz', 34, 'Buzz', 'Fizz', 37, 38, 'Fizz', 'Buzz', 41, 'Fizz', 43, 44, 'FizzBuzz', 46, 47, 'Fizz', 49, 'Buzz', 'Fizz', 52, 53, 'Fizz', 'Buzz', 56, 'Fizz', 58, 59, 'FizzBuzz', 61, 62, 'Fizz', 64, 'Buzz', 'Fizz', 67, 68, 'Fizz', 'Buzz', 71, 'Fizz', 73, 74, 'FizzBuzz', 76, 77, 'Fizz', 79, 'Buzz', 'Fizz', 82, 83, 'Fizz', 'Buzz', 86, 'Fizz', 88, 89, 'FizzBuzz', 91, 92, 'Fizz', 94, 'Buzz', 'Fizz', 97, 98, 'Fizz']\n"
     ]
    }
   ],
   "source": [
    "#Initialize a list to contain the multiples\n",
    "multiples = []\n",
    "\n",
    "#For loop to check multiples of 3 and 5, using the mod operand, append respective rule into the multiples list\n",
    "for i in range(1,100):\n",
    "    if (i%3 == 0 and i%5 ==0):\n",
    "        multiples.append('FizzBuzz')\n",
    "    elif (i%3 == 0):\n",
    "        multiples.append('Fizz')\n",
    "    elif (i%5 == 0):\n",
    "        multiples.append('Buzz')\n",
    "    else:\n",
    "        multiples.append(i)\n",
    "            \n",
    "print(multiples)"
   ]
  },
  {
   "cell_type": "markdown",
   "metadata": {},
   "source": [
    "<span style=\"color:blue\">\n",
    "Comments\n",
    "<br>\n",
    "<span style=\"color:blue\">-awesome job in using the mod operand for this question and having the condition fizzbuzz at the start of the if-else. <br>\n",
    "<span style=\"color:blue\">-technically, you don't have to append the results in a list as the instructions just says to print all the numbers."
   ]
  },
  {
   "cell_type": "code",
   "execution_count": null,
   "metadata": {
    "collapsed": true
   },
   "outputs": [],
   "source": []
  }
 ],
 "metadata": {
  "anaconda-cloud": {},
  "kernelspec": {
   "display_name": "Python 3",
   "language": "python",
   "name": "python3"
  },
  "language_info": {
   "codemirror_mode": {
    "name": "ipython",
    "version": 3
   },
   "file_extension": ".py",
   "mimetype": "text/x-python",
   "name": "python",
   "nbconvert_exporter": "python",
   "pygments_lexer": "ipython3",
   "version": "3.6.5"
  }
 },
 "nbformat": 4,
 "nbformat_minor": 2
}

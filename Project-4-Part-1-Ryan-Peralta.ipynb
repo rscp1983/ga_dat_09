{
 "cells": [
  {
   "cell_type": "markdown",
   "metadata": {},
   "source": [
    "# Final Project, Part 1: Proposal\n",
    "> Frame your problem, criteria, and data source(s)\n",
    "\n",
    "    Describe your chosen problem and state whether you have access to relevant data. If you get stuck, see this list of curated datasets.\n",
    "\n",
    "### Requirements\n",
    "1. Draft a well-formed problem statement relevant to a business problem affecting your team, division, or organization.\n",
    "2. Include the following elements:\n",
    "    - Hypothesis/assumptions\n",
    "    - Goals and success metrics\n",
    "    - Risks or limitations\n",
    "3. Identify at least one relevant internal dataset and confirm that you have (or can get) the right access permissions.\n",
    "\n",
    "### Submission\n",
    "Submit or share your project proposal as per your instructor's directions."
   ]
  },
  {
   "cell_type": "markdown",
   "metadata": {},
   "source": [
    "## Background\n",
    "- By 2020, online advertising is expected to be 44.6% of global ad spend (~USD274bn) with mobile advertising comprising 67% and desktop advertising making up the balance. Growth to mainly come from the rise of ad spend in markets such as China, Indonesia, India, Philippines, Brazil, Russia and South Korea.\n",
    "- Despite bullish growth rates for online advertising, a potential threat to the industry in the form of ad blockers is already taking storm in the United States, with 32% of the internet population already using ad blockers with growth still expected in the double-digit levels.\n",
    "- Estimates show a potential revenue loss for the industry at ~USD35bn by 2020 should the same trend of usage happen globally.\n",
    "\n",
    "<img src=\"US Ad Blockers.png\" alt=\"US Ad Blocking\" title=\"US Ad Blocking\"/>\n",
    "\n",
    "## Bringing a Better Browsing Experience (with Ads) to the Consumer\n",
    "- In order to understand the uptake in the usage of ad blockers, going back to the motivations for consumers to use ad blockers is necessary. Reasons span from needing an ad-free browsing experience, taking out annoying ads, to wanting a cookie-free private browsing experience.\n",
    "- It is also necessary to understand the motivations of those who are ok with online advertising and leverage on learnings on this. Reasons for online advertising to work with some consumers would include ad relevance and native formats.\n",
    "- For brands and publishers, it becomes imperative to understand the consumers behaviors as regards online advertising and ad blocking use as a springboard to create strategies and guidelines to ensure that the ads created are relevant and useful for the consumer.\n",
    "\n",
    "## The Hypothesis and Dataset\n",
    "- In view of the above consumer behavior, we endeavor to predict via a two class classification whether or not a consumer is likely to use an ad blocker.\n",
    "- The following data set from https://data.mendeley.com/datasets/89nk3kp8tg/1 will be utilised for this purpose. The data set includes information on consumers adeptness in using technology and ttitudes towards internet advertising.\n",
    "\n",
    "##### Sources:\n",
    "- https://www.marketing-interactive.com/online-advertising-to-account-for-44-6-of-global-ad-spend/\n",
    "- https://www.emarketer.com/Article/Ad-Blocker-Use-Grows-Publishers-Face-New-Challenges/1016076\n",
    "- https://digiday.com/uk/uh-oh-ad-blocking-forecast-cost-35-billion-2020/\n",
    "- https://nativeadvertisinginstitute.com/blog/ad-blocking-impact-online-advertising-ecosystem/\n",
    "- https://www.relevance.com/ad-blocking-and-its-effects-on-advertisers-and-publishers/"
   ]
  },
  {
   "cell_type": "markdown",
   "metadata": {},
   "source": []
  }
 ],
 "metadata": {
  "kernelspec": {
   "display_name": "Python 3",
   "language": "python",
   "name": "python3"
  },
  "language_info": {
   "codemirror_mode": {
    "name": "ipython",
    "version": 3
   },
   "file_extension": ".py",
   "mimetype": "text/x-python",
   "name": "python",
   "nbconvert_exporter": "python",
   "pygments_lexer": "ipython3",
   "version": "3.6.5"
  }
 },
 "nbformat": 4,
 "nbformat_minor": 2
}

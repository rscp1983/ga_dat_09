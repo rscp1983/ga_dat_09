{
 "cells": [
  {
   "cell_type": "markdown",
   "metadata": {
    "slideshow": {
     "slide_type": "slide"
    }
   },
   "source": [
    "# ![](https://ga-dash.s3.amazonaws.com/production/assets/logo-9f88ae6c9c3871690e33280fcf557f33.png)\n",
    "# DAT09 Data Science Capstone: LEGO Case Study\n",
    "#### by Ryan Peralta"
   ]
  },
  {
   "cell_type": "markdown",
   "metadata": {
    "slideshow": {
     "slide_type": "slide"
    }
   },
   "source": [
    "## Background\n",
    "- The name 'LEGO' is an abbreviation of the two Danish words \"leg godt\", meaning \"play well\".\n",
    "- The key product remains the traditional LEGO brick which was launched in 1958. The interlocking design makes it unique and offers unlimited building possibilities. \n",
    "- LEGO gets the imagination going and letting a wealth of creative ideas emerge through play.\n",
    "\n",
    "<img src=\"Lego_01.jpeg\" alt=\"LEGO Figurine with Computer\" title=\"LEGO Computer Scientist\"/>"
   ]
  },
  {
   "cell_type": "markdown",
   "metadata": {
    "slideshow": {
     "slide_type": "slide"
    }
   },
   "source": [
    "## Creativity, Innovation, and Invention\n",
    "- As per Wikipedia, creativity is a phenomenon whereby something new and somehow valuable is formed. The creation may either be tangible or intangible. Innovation and invention are respectively the implementation of something new and he creation of something that has never been made before and is recognized as the product of some unique insight. Both innovation and invention go hand-in-hand with creativity."
   ]
  },
  {
   "cell_type": "markdown",
   "metadata": {
    "slideshow": {
     "slide_type": "slide"
    }
   },
   "source": [
    "## The Hypothesis\n",
    ">It would be of interest to see if there is a relationship between LEGO and creativity. Specifics such as price, piece count, theme, age range would be good data points to investigate this.\n",
    "\n",
    "> Furthermore, we will to try to predict the price of a LEGO set based on the features available and identify which are the most important in driving that price.\n",
    "\n",
    "<img src=\"Lego_02.jpg\" alt=\"LEGO Figurine with Magnifying Glass\" title=\"LEGO Sherlock\"/>"
   ]
  },
  {
   "cell_type": "markdown",
   "metadata": {
    "slideshow": {
     "slide_type": "slide"
    }
   },
   "source": [
    "## Sources of Data\n",
    "In order to investigate the above hypothesis we will be using the following datasets:\n",
    "- LEGO dataset from Kaggle https://www.kaggle.com/mterzolo/lego-sets/home which includes the information such as: age, price, reviews, piece count, play rating, description, difficulty, set name, theme, and country.\n",
    "- Global Creativity Index (GCI) from http://martinprosperity.org/content/the-global-creativity-index-2015/ which includes country rankings across technology, talent, and tolerance - which are ultimately summarized into a single number index. The table in the webpage will be converted into a CSV file for purposes of this case study."
   ]
  },
  {
   "cell_type": "markdown",
   "metadata": {
    "slideshow": {
     "slide_type": "slide"
    }
   },
   "source": [
    "## Data Preparation & Exploratory Data Analysis\n",
    "#### Loading the data sets"
   ]
  },
  {
   "cell_type": "code",
   "execution_count": 1,
   "metadata": {
    "slideshow": {
     "slide_type": "skip"
    }
   },
   "outputs": [],
   "source": [
    "import pandas as pd\n",
    "import numpy as np\n",
    "import seaborn as sns\n",
    "from sklearn import preprocessing\n",
    "from sklearn import neighbors\n",
    "from sklearn.linear_model import LinearRegression\n",
    "from sklearn.ensemble import RandomForestRegressor\n",
    "from sklearn.metrics import mean_squared_error \n",
    "from math import sqrt\n",
    "import matplotlib.pyplot as plt\n",
    "%matplotlib inline"
   ]
  },
  {
   "cell_type": "code",
   "execution_count": 2,
   "metadata": {
    "slideshow": {
     "slide_type": "subslide"
    }
   },
   "outputs": [],
   "source": [
    "legofile = \"lego_sets.csv\"\n",
    "gcifile = \"GCI.csv\"\n",
    "\n",
    "dfl = pd.read_csv(legofile)\n",
    "dfg = pd.read_csv(gcifile)"
   ]
  },
  {
   "cell_type": "markdown",
   "metadata": {
    "slideshow": {
     "slide_type": "subslide"
    }
   },
   "source": [
    "#### Starting dataframes insights"
   ]
  },
  {
   "cell_type": "code",
   "execution_count": 3,
   "metadata": {
    "slideshow": {
     "slide_type": "subslide"
    }
   },
   "outputs": [
    {
     "data": {
      "text/html": [
       "<div>\n",
       "<style scoped>\n",
       "    .dataframe tbody tr th:only-of-type {\n",
       "        vertical-align: middle;\n",
       "    }\n",
       "\n",
       "    .dataframe tbody tr th {\n",
       "        vertical-align: top;\n",
       "    }\n",
       "\n",
       "    .dataframe thead th {\n",
       "        text-align: right;\n",
       "    }\n",
       "</style>\n",
       "<table border=\"1\" class=\"dataframe\">\n",
       "  <thead>\n",
       "    <tr style=\"text-align: right;\">\n",
       "      <th></th>\n",
       "      <th>ages</th>\n",
       "      <th>list_price</th>\n",
       "      <th>num_reviews</th>\n",
       "      <th>piece_count</th>\n",
       "      <th>play_star_rating</th>\n",
       "      <th>prod_desc</th>\n",
       "      <th>prod_id</th>\n",
       "      <th>prod_long_desc</th>\n",
       "      <th>review_difficulty</th>\n",
       "      <th>set_name</th>\n",
       "      <th>star_rating</th>\n",
       "      <th>theme_name</th>\n",
       "      <th>val_star_rating</th>\n",
       "      <th>country</th>\n",
       "    </tr>\n",
       "  </thead>\n",
       "  <tbody>\n",
       "    <tr>\n",
       "      <th>0</th>\n",
       "      <td>6-12</td>\n",
       "      <td>29.99</td>\n",
       "      <td>2.0</td>\n",
       "      <td>277.0</td>\n",
       "      <td>4.0</td>\n",
       "      <td>Catapult into action and take back the eggs fr...</td>\n",
       "      <td>75823.0</td>\n",
       "      <td>Use the staircase catapult to launch Red into ...</td>\n",
       "      <td>Average</td>\n",
       "      <td>Bird Island Egg Heist</td>\n",
       "      <td>4.5</td>\n",
       "      <td>Angry Birds™</td>\n",
       "      <td>4.0</td>\n",
       "      <td>US</td>\n",
       "    </tr>\n",
       "    <tr>\n",
       "      <th>1</th>\n",
       "      <td>6-12</td>\n",
       "      <td>19.99</td>\n",
       "      <td>2.0</td>\n",
       "      <td>168.0</td>\n",
       "      <td>4.0</td>\n",
       "      <td>Launch a flying attack and rescue the eggs fro...</td>\n",
       "      <td>75822.0</td>\n",
       "      <td>Pilot Pig has taken off from Bird Island with ...</td>\n",
       "      <td>Easy</td>\n",
       "      <td>Piggy Plane Attack</td>\n",
       "      <td>5.0</td>\n",
       "      <td>Angry Birds™</td>\n",
       "      <td>4.0</td>\n",
       "      <td>US</td>\n",
       "    </tr>\n",
       "    <tr>\n",
       "      <th>2</th>\n",
       "      <td>6-12</td>\n",
       "      <td>12.99</td>\n",
       "      <td>11.0</td>\n",
       "      <td>74.0</td>\n",
       "      <td>4.3</td>\n",
       "      <td>Chase the piggy with lightning-fast Chuck and ...</td>\n",
       "      <td>75821.0</td>\n",
       "      <td>Pitch speedy bird Chuck against the Piggy Car....</td>\n",
       "      <td>Easy</td>\n",
       "      <td>Piggy Car Escape</td>\n",
       "      <td>4.3</td>\n",
       "      <td>Angry Birds™</td>\n",
       "      <td>4.1</td>\n",
       "      <td>US</td>\n",
       "    </tr>\n",
       "    <tr>\n",
       "      <th>3</th>\n",
       "      <td>12+</td>\n",
       "      <td>99.99</td>\n",
       "      <td>23.0</td>\n",
       "      <td>1032.0</td>\n",
       "      <td>3.6</td>\n",
       "      <td>Explore the architecture of the United States ...</td>\n",
       "      <td>21030.0</td>\n",
       "      <td>Discover the architectural secrets of the icon...</td>\n",
       "      <td>Average</td>\n",
       "      <td>United States Capitol Building</td>\n",
       "      <td>4.6</td>\n",
       "      <td>Architecture</td>\n",
       "      <td>4.3</td>\n",
       "      <td>US</td>\n",
       "    </tr>\n",
       "    <tr>\n",
       "      <th>4</th>\n",
       "      <td>12+</td>\n",
       "      <td>79.99</td>\n",
       "      <td>14.0</td>\n",
       "      <td>744.0</td>\n",
       "      <td>3.2</td>\n",
       "      <td>Recreate the Solomon R. Guggenheim Museum® wit...</td>\n",
       "      <td>21035.0</td>\n",
       "      <td>Discover the architectural secrets of Frank Ll...</td>\n",
       "      <td>Challenging</td>\n",
       "      <td>Solomon R. Guggenheim Museum®</td>\n",
       "      <td>4.6</td>\n",
       "      <td>Architecture</td>\n",
       "      <td>4.1</td>\n",
       "      <td>US</td>\n",
       "    </tr>\n",
       "  </tbody>\n",
       "</table>\n",
       "</div>"
      ],
      "text/plain": [
       "   ages  list_price  num_reviews  piece_count  play_star_rating  \\\n",
       "0  6-12       29.99          2.0        277.0               4.0   \n",
       "1  6-12       19.99          2.0        168.0               4.0   \n",
       "2  6-12       12.99         11.0         74.0               4.3   \n",
       "3   12+       99.99         23.0       1032.0               3.6   \n",
       "4   12+       79.99         14.0        744.0               3.2   \n",
       "\n",
       "                                           prod_desc  prod_id  \\\n",
       "0  Catapult into action and take back the eggs fr...  75823.0   \n",
       "1  Launch a flying attack and rescue the eggs fro...  75822.0   \n",
       "2  Chase the piggy with lightning-fast Chuck and ...  75821.0   \n",
       "3  Explore the architecture of the United States ...  21030.0   \n",
       "4  Recreate the Solomon R. Guggenheim Museum® wit...  21035.0   \n",
       "\n",
       "                                      prod_long_desc review_difficulty  \\\n",
       "0  Use the staircase catapult to launch Red into ...           Average   \n",
       "1  Pilot Pig has taken off from Bird Island with ...              Easy   \n",
       "2  Pitch speedy bird Chuck against the Piggy Car....              Easy   \n",
       "3  Discover the architectural secrets of the icon...           Average   \n",
       "4  Discover the architectural secrets of Frank Ll...       Challenging   \n",
       "\n",
       "                         set_name  star_rating    theme_name  val_star_rating  \\\n",
       "0           Bird Island Egg Heist          4.5  Angry Birds™              4.0   \n",
       "1              Piggy Plane Attack          5.0  Angry Birds™              4.0   \n",
       "2                Piggy Car Escape          4.3  Angry Birds™              4.1   \n",
       "3  United States Capitol Building          4.6  Architecture              4.3   \n",
       "4   Solomon R. Guggenheim Museum®          4.6  Architecture              4.1   \n",
       "\n",
       "  country  \n",
       "0      US  \n",
       "1      US  \n",
       "2      US  \n",
       "3      US  \n",
       "4      US  "
      ]
     },
     "execution_count": 3,
     "metadata": {},
     "output_type": "execute_result"
    }
   ],
   "source": [
    "dfl.head()"
   ]
  },
  {
   "cell_type": "code",
   "execution_count": 4,
   "metadata": {
    "slideshow": {
     "slide_type": "subslide"
    }
   },
   "outputs": [
    {
     "data": {
      "text/html": [
       "<div>\n",
       "<style scoped>\n",
       "    .dataframe tbody tr th:only-of-type {\n",
       "        vertical-align: middle;\n",
       "    }\n",
       "\n",
       "    .dataframe tbody tr th {\n",
       "        vertical-align: top;\n",
       "    }\n",
       "\n",
       "    .dataframe thead th {\n",
       "        text-align: right;\n",
       "    }\n",
       "</style>\n",
       "<table border=\"1\" class=\"dataframe\">\n",
       "  <thead>\n",
       "    <tr style=\"text-align: right;\">\n",
       "      <th></th>\n",
       "      <th>Ranking</th>\n",
       "      <th>Country</th>\n",
       "      <th>Technology</th>\n",
       "      <th>Talent</th>\n",
       "      <th>Tolerance</th>\n",
       "      <th>Global Creativity Index</th>\n",
       "    </tr>\n",
       "  </thead>\n",
       "  <tbody>\n",
       "    <tr>\n",
       "      <th>0</th>\n",
       "      <td>1</td>\n",
       "      <td>Australia</td>\n",
       "      <td>7</td>\n",
       "      <td>1</td>\n",
       "      <td>4</td>\n",
       "      <td>0.970</td>\n",
       "    </tr>\n",
       "    <tr>\n",
       "      <th>1</th>\n",
       "      <td>2</td>\n",
       "      <td>United States</td>\n",
       "      <td>4</td>\n",
       "      <td>3</td>\n",
       "      <td>11</td>\n",
       "      <td>0.950</td>\n",
       "    </tr>\n",
       "    <tr>\n",
       "      <th>2</th>\n",
       "      <td>3</td>\n",
       "      <td>New Zealand</td>\n",
       "      <td>7</td>\n",
       "      <td>8</td>\n",
       "      <td>3</td>\n",
       "      <td>0.949</td>\n",
       "    </tr>\n",
       "    <tr>\n",
       "      <th>3</th>\n",
       "      <td>4</td>\n",
       "      <td>Canada</td>\n",
       "      <td>13</td>\n",
       "      <td>14</td>\n",
       "      <td>1</td>\n",
       "      <td>0.920</td>\n",
       "    </tr>\n",
       "    <tr>\n",
       "      <th>4</th>\n",
       "      <td>5</td>\n",
       "      <td>Denmark</td>\n",
       "      <td>10</td>\n",
       "      <td>6</td>\n",
       "      <td>13</td>\n",
       "      <td>0.917</td>\n",
       "    </tr>\n",
       "  </tbody>\n",
       "</table>\n",
       "</div>"
      ],
      "text/plain": [
       "   Ranking        Country Technology Talent Tolerance  Global Creativity Index\n",
       "0        1      Australia          7      1         4                    0.970\n",
       "1        2  United States          4      3        11                    0.950\n",
       "2        3    New Zealand          7      8         3                    0.949\n",
       "3        4         Canada         13     14         1                    0.920\n",
       "4        5        Denmark         10      6        13                    0.917"
      ]
     },
     "execution_count": 4,
     "metadata": {},
     "output_type": "execute_result"
    }
   ],
   "source": [
    "dfg.head()"
   ]
  },
  {
   "cell_type": "markdown",
   "metadata": {
    "slideshow": {
     "slide_type": "slide"
    }
   },
   "source": [
    "#### Combining LEGO and GCI dataframes\n",
    "> In order to combine the LEGO dataframe the the GCI dataframe, we will need to map the countries' ISO 3166 codes from https://datahub.io/core/country-list#resource-country-list_zip using the CSV file in the link.\n",
    "\n",
    "<img src=\"Lego_06.jpg\" alt=\"LEGO Woman Scientist\" title=\"LEGO Combine\"/>"
   ]
  },
  {
   "cell_type": "code",
   "execution_count": 5,
   "metadata": {
    "slideshow": {
     "slide_type": "skip"
    }
   },
   "outputs": [
    {
     "data": {
      "text/html": [
       "<div>\n",
       "<style scoped>\n",
       "    .dataframe tbody tr th:only-of-type {\n",
       "        vertical-align: middle;\n",
       "    }\n",
       "\n",
       "    .dataframe tbody tr th {\n",
       "        vertical-align: top;\n",
       "    }\n",
       "\n",
       "    .dataframe thead th {\n",
       "        text-align: right;\n",
       "    }\n",
       "</style>\n",
       "<table border=\"1\" class=\"dataframe\">\n",
       "  <thead>\n",
       "    <tr style=\"text-align: right;\">\n",
       "      <th></th>\n",
       "      <th>Name</th>\n",
       "      <th>Code</th>\n",
       "    </tr>\n",
       "  </thead>\n",
       "  <tbody>\n",
       "    <tr>\n",
       "      <th>0</th>\n",
       "      <td>Afghanistan</td>\n",
       "      <td>AF</td>\n",
       "    </tr>\n",
       "    <tr>\n",
       "      <th>1</th>\n",
       "      <td>Åland Islands</td>\n",
       "      <td>AX</td>\n",
       "    </tr>\n",
       "    <tr>\n",
       "      <th>2</th>\n",
       "      <td>Albania</td>\n",
       "      <td>AL</td>\n",
       "    </tr>\n",
       "    <tr>\n",
       "      <th>3</th>\n",
       "      <td>Algeria</td>\n",
       "      <td>DZ</td>\n",
       "    </tr>\n",
       "    <tr>\n",
       "      <th>4</th>\n",
       "      <td>American Samoa</td>\n",
       "      <td>AS</td>\n",
       "    </tr>\n",
       "  </tbody>\n",
       "</table>\n",
       "</div>"
      ],
      "text/plain": [
       "             Name Code\n",
       "0     Afghanistan   AF\n",
       "1   Åland Islands   AX\n",
       "2         Albania   AL\n",
       "3         Algeria   DZ\n",
       "4  American Samoa   AS"
      ]
     },
     "execution_count": 5,
     "metadata": {},
     "output_type": "execute_result"
    }
   ],
   "source": [
    "isofile = \"country_code.csv\"\n",
    "dfc = pd.read_csv(isofile)\n",
    "dfc.head()"
   ]
  },
  {
   "cell_type": "code",
   "execution_count": 6,
   "metadata": {
    "slideshow": {
     "slide_type": "skip"
    }
   },
   "outputs": [
    {
     "data": {
      "text/html": [
       "<div>\n",
       "<style scoped>\n",
       "    .dataframe tbody tr th:only-of-type {\n",
       "        vertical-align: middle;\n",
       "    }\n",
       "\n",
       "    .dataframe tbody tr th {\n",
       "        vertical-align: top;\n",
       "    }\n",
       "\n",
       "    .dataframe thead th {\n",
       "        text-align: right;\n",
       "    }\n",
       "</style>\n",
       "<table border=\"1\" class=\"dataframe\">\n",
       "  <thead>\n",
       "    <tr style=\"text-align: right;\">\n",
       "      <th></th>\n",
       "      <th>Ranking</th>\n",
       "      <th>country</th>\n",
       "      <th>Technology</th>\n",
       "      <th>Talent</th>\n",
       "      <th>Tolerance</th>\n",
       "      <th>Global Creativity Index</th>\n",
       "    </tr>\n",
       "  </thead>\n",
       "  <tbody>\n",
       "    <tr>\n",
       "      <th>0</th>\n",
       "      <td>1</td>\n",
       "      <td>AU</td>\n",
       "      <td>7</td>\n",
       "      <td>1</td>\n",
       "      <td>4</td>\n",
       "      <td>0.970</td>\n",
       "    </tr>\n",
       "    <tr>\n",
       "      <th>1</th>\n",
       "      <td>2</td>\n",
       "      <td>US</td>\n",
       "      <td>4</td>\n",
       "      <td>3</td>\n",
       "      <td>11</td>\n",
       "      <td>0.950</td>\n",
       "    </tr>\n",
       "    <tr>\n",
       "      <th>2</th>\n",
       "      <td>3</td>\n",
       "      <td>NZ</td>\n",
       "      <td>7</td>\n",
       "      <td>8</td>\n",
       "      <td>3</td>\n",
       "      <td>0.949</td>\n",
       "    </tr>\n",
       "    <tr>\n",
       "      <th>3</th>\n",
       "      <td>4</td>\n",
       "      <td>CA</td>\n",
       "      <td>13</td>\n",
       "      <td>14</td>\n",
       "      <td>1</td>\n",
       "      <td>0.920</td>\n",
       "    </tr>\n",
       "    <tr>\n",
       "      <th>4</th>\n",
       "      <td>5</td>\n",
       "      <td>DK</td>\n",
       "      <td>10</td>\n",
       "      <td>6</td>\n",
       "      <td>13</td>\n",
       "      <td>0.917</td>\n",
       "    </tr>\n",
       "  </tbody>\n",
       "</table>\n",
       "</div>"
      ],
      "text/plain": [
       "   Ranking country Technology Talent Tolerance  Global Creativity Index\n",
       "0        1      AU          7      1         4                    0.970\n",
       "1        2      US          4      3        11                    0.950\n",
       "2        3      NZ          7      8         3                    0.949\n",
       "3        4      CA         13     14         1                    0.920\n",
       "4        5      DK         10      6        13                    0.917"
      ]
     },
     "execution_count": 6,
     "metadata": {},
     "output_type": "execute_result"
    }
   ],
   "source": [
    "dfg.Country = dfg.Country.map(dfc.set_index('Name').Code)\n",
    "dfg = dfg.rename(columns = {'Country':'country'})\n",
    "dfg.head()"
   ]
  },
  {
   "cell_type": "markdown",
   "metadata": {
    "slideshow": {
     "slide_type": "skip"
    }
   },
   "source": [
    "> Creating the dataframe that we will use to continue to do the analysis by using merge."
   ]
  },
  {
   "cell_type": "code",
   "execution_count": 7,
   "metadata": {
    "slideshow": {
     "slide_type": "subslide"
    }
   },
   "outputs": [
    {
     "data": {
      "text/html": [
       "<div>\n",
       "<style scoped>\n",
       "    .dataframe tbody tr th:only-of-type {\n",
       "        vertical-align: middle;\n",
       "    }\n",
       "\n",
       "    .dataframe tbody tr th {\n",
       "        vertical-align: top;\n",
       "    }\n",
       "\n",
       "    .dataframe thead th {\n",
       "        text-align: right;\n",
       "    }\n",
       "</style>\n",
       "<table border=\"1\" class=\"dataframe\">\n",
       "  <thead>\n",
       "    <tr style=\"text-align: right;\">\n",
       "      <th></th>\n",
       "      <th>ranking</th>\n",
       "      <th>country</th>\n",
       "      <th>technology</th>\n",
       "      <th>talent</th>\n",
       "      <th>tolerance</th>\n",
       "      <th>global creativity index</th>\n",
       "      <th>ages</th>\n",
       "      <th>list_price</th>\n",
       "      <th>num_reviews</th>\n",
       "      <th>piece_count</th>\n",
       "      <th>play_star_rating</th>\n",
       "      <th>prod_desc</th>\n",
       "      <th>prod_id</th>\n",
       "      <th>prod_long_desc</th>\n",
       "      <th>review_difficulty</th>\n",
       "      <th>set_name</th>\n",
       "      <th>star_rating</th>\n",
       "      <th>theme_name</th>\n",
       "      <th>val_star_rating</th>\n",
       "    </tr>\n",
       "  </thead>\n",
       "  <tbody>\n",
       "    <tr>\n",
       "      <th>0</th>\n",
       "      <td>1</td>\n",
       "      <td>AU</td>\n",
       "      <td>7</td>\n",
       "      <td>1</td>\n",
       "      <td>4</td>\n",
       "      <td>0.97</td>\n",
       "      <td>12+</td>\n",
       "      <td>113.9924</td>\n",
       "      <td>23.0</td>\n",
       "      <td>1032.0</td>\n",
       "      <td>3.6</td>\n",
       "      <td>Explore the architecture of the United States ...</td>\n",
       "      <td>21030.0</td>\n",
       "      <td>Discover the architectural secrets of the icon...</td>\n",
       "      <td>Average</td>\n",
       "      <td>United States Capitol Building</td>\n",
       "      <td>4.6</td>\n",
       "      <td>Architecture</td>\n",
       "      <td>4.3</td>\n",
       "    </tr>\n",
       "    <tr>\n",
       "      <th>1</th>\n",
       "      <td>1</td>\n",
       "      <td>AU</td>\n",
       "      <td>7</td>\n",
       "      <td>1</td>\n",
       "      <td>4</td>\n",
       "      <td>0.97</td>\n",
       "      <td>12+</td>\n",
       "      <td>75.9924</td>\n",
       "      <td>14.0</td>\n",
       "      <td>744.0</td>\n",
       "      <td>3.2</td>\n",
       "      <td>Recreate the Solomon R. Guggenheim Museum® wit...</td>\n",
       "      <td>21035.0</td>\n",
       "      <td>Discover the architectural secrets of Frank Ll...</td>\n",
       "      <td>Challenging</td>\n",
       "      <td>Solomon R. Guggenheim Museum®</td>\n",
       "      <td>4.6</td>\n",
       "      <td>Architecture</td>\n",
       "      <td>4.1</td>\n",
       "    </tr>\n",
       "    <tr>\n",
       "      <th>2</th>\n",
       "      <td>1</td>\n",
       "      <td>AU</td>\n",
       "      <td>7</td>\n",
       "      <td>1</td>\n",
       "      <td>4</td>\n",
       "      <td>0.97</td>\n",
       "      <td>12+</td>\n",
       "      <td>60.7924</td>\n",
       "      <td>7.0</td>\n",
       "      <td>597.0</td>\n",
       "      <td>3.7</td>\n",
       "      <td>Celebrate Shanghai with this LEGO® Architectur...</td>\n",
       "      <td>21039.0</td>\n",
       "      <td>Recreate Shanghai in China's blend of historic...</td>\n",
       "      <td>Average</td>\n",
       "      <td>Shanghai</td>\n",
       "      <td>4.9</td>\n",
       "      <td>Architecture</td>\n",
       "      <td>4.4</td>\n",
       "    </tr>\n",
       "    <tr>\n",
       "      <th>3</th>\n",
       "      <td>1</td>\n",
       "      <td>AU</td>\n",
       "      <td>7</td>\n",
       "      <td>1</td>\n",
       "      <td>4</td>\n",
       "      <td>0.97</td>\n",
       "      <td>12+</td>\n",
       "      <td>53.1924</td>\n",
       "      <td>24.0</td>\n",
       "      <td>780.0</td>\n",
       "      <td>4.4</td>\n",
       "      <td>Recreate Buckingham Palace with LEGO® Architec...</td>\n",
       "      <td>21029.0</td>\n",
       "      <td>Build a LEGO® brick model of London's official...</td>\n",
       "      <td>Average</td>\n",
       "      <td>Buckingham Palace</td>\n",
       "      <td>4.7</td>\n",
       "      <td>Architecture</td>\n",
       "      <td>4.3</td>\n",
       "    </tr>\n",
       "    <tr>\n",
       "      <th>4</th>\n",
       "      <td>1</td>\n",
       "      <td>AU</td>\n",
       "      <td>7</td>\n",
       "      <td>1</td>\n",
       "      <td>4</td>\n",
       "      <td>0.97</td>\n",
       "      <td>12+</td>\n",
       "      <td>53.1924</td>\n",
       "      <td>37.0</td>\n",
       "      <td>598.0</td>\n",
       "      <td>3.7</td>\n",
       "      <td>Celebrate New York City with this LEGO® Archit...</td>\n",
       "      <td>21028.0</td>\n",
       "      <td>Celebrate the architectural diversity of New Y...</td>\n",
       "      <td>Average</td>\n",
       "      <td>New York City</td>\n",
       "      <td>4.2</td>\n",
       "      <td>Architecture</td>\n",
       "      <td>4.1</td>\n",
       "    </tr>\n",
       "  </tbody>\n",
       "</table>\n",
       "</div>"
      ],
      "text/plain": [
       "   ranking country technology talent tolerance  global creativity index ages  \\\n",
       "0        1      AU          7      1         4                     0.97  12+   \n",
       "1        1      AU          7      1         4                     0.97  12+   \n",
       "2        1      AU          7      1         4                     0.97  12+   \n",
       "3        1      AU          7      1         4                     0.97  12+   \n",
       "4        1      AU          7      1         4                     0.97  12+   \n",
       "\n",
       "   list_price  num_reviews  piece_count  play_star_rating  \\\n",
       "0    113.9924         23.0       1032.0               3.6   \n",
       "1     75.9924         14.0        744.0               3.2   \n",
       "2     60.7924          7.0        597.0               3.7   \n",
       "3     53.1924         24.0        780.0               4.4   \n",
       "4     53.1924         37.0        598.0               3.7   \n",
       "\n",
       "                                           prod_desc  prod_id  \\\n",
       "0  Explore the architecture of the United States ...  21030.0   \n",
       "1  Recreate the Solomon R. Guggenheim Museum® wit...  21035.0   \n",
       "2  Celebrate Shanghai with this LEGO® Architectur...  21039.0   \n",
       "3  Recreate Buckingham Palace with LEGO® Architec...  21029.0   \n",
       "4  Celebrate New York City with this LEGO® Archit...  21028.0   \n",
       "\n",
       "                                      prod_long_desc review_difficulty  \\\n",
       "0  Discover the architectural secrets of the icon...           Average   \n",
       "1  Discover the architectural secrets of Frank Ll...       Challenging   \n",
       "2  Recreate Shanghai in China's blend of historic...           Average   \n",
       "3  Build a LEGO® brick model of London's official...           Average   \n",
       "4  Celebrate the architectural diversity of New Y...           Average   \n",
       "\n",
       "                         set_name  star_rating    theme_name  val_star_rating  \n",
       "0  United States Capitol Building          4.6  Architecture              4.3  \n",
       "1   Solomon R. Guggenheim Museum®          4.6  Architecture              4.1  \n",
       "2                        Shanghai          4.9  Architecture              4.4  \n",
       "3               Buckingham Palace          4.7  Architecture              4.3  \n",
       "4                   New York City          4.2  Architecture              4.1  "
      ]
     },
     "execution_count": 7,
     "metadata": {},
     "output_type": "execute_result"
    }
   ],
   "source": [
    "df = dfg.merge(dfl, on='country', how='inner')\n",
    "df.columns = map(str.lower, df.columns)\n",
    "df.head()"
   ]
  },
  {
   "cell_type": "markdown",
   "metadata": {
    "slideshow": {
     "slide_type": "skip"
    }
   },
   "source": [
    "> Renaming columns prior to checking the tail."
   ]
  },
  {
   "cell_type": "code",
   "execution_count": 8,
   "metadata": {
    "slideshow": {
     "slide_type": "skip"
    }
   },
   "outputs": [
    {
     "data": {
      "text/html": [
       "<div>\n",
       "<style scoped>\n",
       "    .dataframe tbody tr th:only-of-type {\n",
       "        vertical-align: middle;\n",
       "    }\n",
       "\n",
       "    .dataframe tbody tr th {\n",
       "        vertical-align: top;\n",
       "    }\n",
       "\n",
       "    .dataframe thead th {\n",
       "        text-align: right;\n",
       "    }\n",
       "</style>\n",
       "<table border=\"1\" class=\"dataframe\">\n",
       "  <thead>\n",
       "    <tr style=\"text-align: right;\">\n",
       "      <th></th>\n",
       "      <th>ranking</th>\n",
       "      <th>country</th>\n",
       "      <th>technology</th>\n",
       "      <th>talent</th>\n",
       "      <th>tolerance</th>\n",
       "      <th>creativity</th>\n",
       "      <th>ages</th>\n",
       "      <th>list_price</th>\n",
       "      <th>num_reviews</th>\n",
       "      <th>piece_count</th>\n",
       "      <th>play_star_rating</th>\n",
       "      <th>prod_desc</th>\n",
       "      <th>prod_id</th>\n",
       "      <th>prod_long_desc</th>\n",
       "      <th>review_difficulty</th>\n",
       "      <th>set_name</th>\n",
       "      <th>star_rating</th>\n",
       "      <th>theme_name</th>\n",
       "      <th>val_star_rating</th>\n",
       "    </tr>\n",
       "  </thead>\n",
       "  <tbody>\n",
       "    <tr>\n",
       "      <th>11681</th>\n",
       "      <td>46</td>\n",
       "      <td>PL</td>\n",
       "      <td>46</td>\n",
       "      <td>25</td>\n",
       "      <td>101</td>\n",
       "      <td>0.516</td>\n",
       "      <td>8-14</td>\n",
       "      <td>40.5971</td>\n",
       "      <td>8.0</td>\n",
       "      <td>341.0</td>\n",
       "      <td>4.2</td>\n",
       "      <td>Take on the tentacular Flying Jelly Sub with Jay!</td>\n",
       "      <td>70610.0</td>\n",
       "      <td>Join ninja Jay in battle against the shark arm...</td>\n",
       "      <td>Average</td>\n",
       "      <td>Flying Jelly Sub</td>\n",
       "      <td>4.6</td>\n",
       "      <td>THE LEGO® NINJAGO® MOVIE™</td>\n",
       "      <td>4.5</td>\n",
       "    </tr>\n",
       "    <tr>\n",
       "      <th>11682</th>\n",
       "      <td>46</td>\n",
       "      <td>PL</td>\n",
       "      <td>46</td>\n",
       "      <td>25</td>\n",
       "      <td>101</td>\n",
       "      <td>0.516</td>\n",
       "      <td>7-14</td>\n",
       "      <td>40.5971</td>\n",
       "      <td>6.0</td>\n",
       "      <td>341.0</td>\n",
       "      <td>4.4</td>\n",
       "      <td>Protect NINJAGO® City from flying Manta Ray Bo...</td>\n",
       "      <td>70609.0</td>\n",
       "      <td>Help Cole save Shen-Li in this cool THE LEGO® ...</td>\n",
       "      <td>Easy</td>\n",
       "      <td>Manta Ray Bomber</td>\n",
       "      <td>4.3</td>\n",
       "      <td>THE LEGO® NINJAGO® MOVIE™</td>\n",
       "      <td>4.2</td>\n",
       "    </tr>\n",
       "    <tr>\n",
       "      <th>11683</th>\n",
       "      <td>46</td>\n",
       "      <td>PL</td>\n",
       "      <td>46</td>\n",
       "      <td>25</td>\n",
       "      <td>101</td>\n",
       "      <td>0.516</td>\n",
       "      <td>7-14</td>\n",
       "      <td>26.0971</td>\n",
       "      <td>8.0</td>\n",
       "      <td>217.0</td>\n",
       "      <td>4.1</td>\n",
       "      <td>Stop a Piranha Attack with Kai and Misako!</td>\n",
       "      <td>70629.0</td>\n",
       "      <td>Play out an action-packed Piranha Mech pursuit...</td>\n",
       "      <td>Easy</td>\n",
       "      <td>Piranha Attack</td>\n",
       "      <td>3.6</td>\n",
       "      <td>THE LEGO® NINJAGO® MOVIE™</td>\n",
       "      <td>4.1</td>\n",
       "    </tr>\n",
       "    <tr>\n",
       "      <th>11684</th>\n",
       "      <td>46</td>\n",
       "      <td>PL</td>\n",
       "      <td>46</td>\n",
       "      <td>25</td>\n",
       "      <td>101</td>\n",
       "      <td>0.516</td>\n",
       "      <td>7-14</td>\n",
       "      <td>26.0971</td>\n",
       "      <td>18.0</td>\n",
       "      <td>233.0</td>\n",
       "      <td>4.6</td>\n",
       "      <td>Stop a crime in the NINJAGO® City street market!</td>\n",
       "      <td>70607.0</td>\n",
       "      <td>Team up with Lloyd Garmadon, Nya and Officer T...</td>\n",
       "      <td>Easy</td>\n",
       "      <td>NINJAGO® City Chase</td>\n",
       "      <td>4.6</td>\n",
       "      <td>THE LEGO® NINJAGO® MOVIE™</td>\n",
       "      <td>4.5</td>\n",
       "    </tr>\n",
       "    <tr>\n",
       "      <th>11685</th>\n",
       "      <td>46</td>\n",
       "      <td>PL</td>\n",
       "      <td>46</td>\n",
       "      <td>25</td>\n",
       "      <td>101</td>\n",
       "      <td>0.516</td>\n",
       "      <td>6-14</td>\n",
       "      <td>13.0471</td>\n",
       "      <td>NaN</td>\n",
       "      <td>48.0</td>\n",
       "      <td>NaN</td>\n",
       "      <td>Achieve Spinjitzu greatness with the Green Ninja!</td>\n",
       "      <td>70628.0</td>\n",
       "      <td>Learn all the skills of Spinjitzu with THE LEG...</td>\n",
       "      <td>NaN</td>\n",
       "      <td>Lloyd - Spinjitzu Master</td>\n",
       "      <td>NaN</td>\n",
       "      <td>THE LEGO® NINJAGO® MOVIE™</td>\n",
       "      <td>NaN</td>\n",
       "    </tr>\n",
       "  </tbody>\n",
       "</table>\n",
       "</div>"
      ],
      "text/plain": [
       "       ranking country technology talent tolerance  creativity  ages  \\\n",
       "11681       46      PL         46     25       101       0.516  8-14   \n",
       "11682       46      PL         46     25       101       0.516  7-14   \n",
       "11683       46      PL         46     25       101       0.516  7-14   \n",
       "11684       46      PL         46     25       101       0.516  7-14   \n",
       "11685       46      PL         46     25       101       0.516  6-14   \n",
       "\n",
       "       list_price  num_reviews  piece_count  play_star_rating  \\\n",
       "11681     40.5971          8.0        341.0               4.2   \n",
       "11682     40.5971          6.0        341.0               4.4   \n",
       "11683     26.0971          8.0        217.0               4.1   \n",
       "11684     26.0971         18.0        233.0               4.6   \n",
       "11685     13.0471          NaN         48.0               NaN   \n",
       "\n",
       "                                               prod_desc  prod_id  \\\n",
       "11681  Take on the tentacular Flying Jelly Sub with Jay!  70610.0   \n",
       "11682  Protect NINJAGO® City from flying Manta Ray Bo...  70609.0   \n",
       "11683         Stop a Piranha Attack with Kai and Misako!  70629.0   \n",
       "11684   Stop a crime in the NINJAGO® City street market!  70607.0   \n",
       "11685  Achieve Spinjitzu greatness with the Green Ninja!  70628.0   \n",
       "\n",
       "                                          prod_long_desc review_difficulty  \\\n",
       "11681  Join ninja Jay in battle against the shark arm...           Average   \n",
       "11682  Help Cole save Shen-Li in this cool THE LEGO® ...              Easy   \n",
       "11683  Play out an action-packed Piranha Mech pursuit...              Easy   \n",
       "11684  Team up with Lloyd Garmadon, Nya and Officer T...              Easy   \n",
       "11685  Learn all the skills of Spinjitzu with THE LEG...               NaN   \n",
       "\n",
       "                       set_name  star_rating                 theme_name  \\\n",
       "11681          Flying Jelly Sub          4.6  THE LEGO® NINJAGO® MOVIE™   \n",
       "11682          Manta Ray Bomber          4.3  THE LEGO® NINJAGO® MOVIE™   \n",
       "11683            Piranha Attack          3.6  THE LEGO® NINJAGO® MOVIE™   \n",
       "11684       NINJAGO® City Chase          4.6  THE LEGO® NINJAGO® MOVIE™   \n",
       "11685  Lloyd - Spinjitzu Master          NaN  THE LEGO® NINJAGO® MOVIE™   \n",
       "\n",
       "       val_star_rating  \n",
       "11681              4.5  \n",
       "11682              4.2  \n",
       "11683              4.1  \n",
       "11684              4.5  \n",
       "11685              NaN  "
      ]
     },
     "execution_count": 8,
     "metadata": {},
     "output_type": "execute_result"
    }
   ],
   "source": [
    "rename = {'global creativity index':'creativity'} \n",
    "df.rename(columns=rename, inplace=True)\n",
    "df.tail()"
   ]
  },
  {
   "cell_type": "markdown",
   "metadata": {
    "slideshow": {
     "slide_type": "slide"
    }
   },
   "source": [
    "#### Missing Values\n",
    "\n",
    "There seems to be missing values in num_reviews, play_star_rating, prod_desc, review_difficulty, star_rating, theme_name, val_star rating."
   ]
  },
  {
   "cell_type": "code",
   "execution_count": 9,
   "metadata": {
    "slideshow": {
     "slide_type": "subslide"
    }
   },
   "outputs": [
    {
     "name": "stdout",
     "output_type": "stream",
     "text": [
      "<class 'pandas.core.frame.DataFrame'>\n",
      "Int64Index: 11686 entries, 0 to 11685\n",
      "Data columns (total 19 columns):\n",
      "ranking              11686 non-null int64\n",
      "country              11686 non-null object\n",
      "technology           11686 non-null object\n",
      "talent               11686 non-null object\n",
      "tolerance            11686 non-null object\n",
      "creativity           11686 non-null float64\n",
      "ages                 11686 non-null object\n",
      "list_price           11686 non-null float64\n",
      "num_reviews          10143 non-null float64\n",
      "piece_count          11686 non-null float64\n",
      "play_star_rating     9996 non-null float64\n",
      "prod_desc            11327 non-null object\n",
      "prod_id              11686 non-null float64\n",
      "prod_long_desc       11686 non-null object\n",
      "review_difficulty    9729 non-null object\n",
      "set_name             11686 non-null object\n",
      "star_rating          10143 non-null float64\n",
      "theme_name           11683 non-null object\n",
      "val_star_rating      9977 non-null float64\n",
      "dtypes: float64(8), int64(1), object(10)\n",
      "memory usage: 1.8+ MB\n"
     ]
    }
   ],
   "source": [
    "df.info()"
   ]
  },
  {
   "cell_type": "markdown",
   "metadata": {
    "slideshow": {
     "slide_type": "subslide"
    }
   },
   "source": [
    "#### Strategy to deal with missing values\n",
    "- We will apply the mean for the following: num_reviews, play_star_rating, star_rating, and val_star_rating.\n",
    "- We will drop (1) prod_desc given the presence of prod_long_desc and (2) the 3 rows without the theme name.\n",
    "- We will explore using a model to fill in missing values for review_difficulty.\n",
    "\n",
    "<img src=\"Lego_03.jpg\" alt=\"LEGO Batman Missing Pieces\" title=\"LEGO Missing Pieces\"/>"
   ]
  },
  {
   "cell_type": "code",
   "execution_count": 10,
   "metadata": {
    "slideshow": {
     "slide_type": "skip"
    }
   },
   "outputs": [],
   "source": [
    "missing = ['num_reviews','play_star_rating','star_rating','val_star_rating']\n",
    "for x in missing:\n",
    "    df[x].fillna(df[x].mean(), inplace=True)"
   ]
  },
  {
   "cell_type": "code",
   "execution_count": 11,
   "metadata": {
    "slideshow": {
     "slide_type": "skip"
    }
   },
   "outputs": [],
   "source": [
    "df.drop(columns='prod_desc', inplace=True)"
   ]
  },
  {
   "cell_type": "code",
   "execution_count": 12,
   "metadata": {
    "slideshow": {
     "slide_type": "skip"
    }
   },
   "outputs": [],
   "source": [
    "df.dropna(subset=['theme_name'], inplace=True)"
   ]
  },
  {
   "cell_type": "code",
   "execution_count": 13,
   "metadata": {
    "slideshow": {
     "slide_type": "skip"
    }
   },
   "outputs": [
    {
     "data": {
      "text/html": [
       "<div>\n",
       "<style scoped>\n",
       "    .dataframe tbody tr th:only-of-type {\n",
       "        vertical-align: middle;\n",
       "    }\n",
       "\n",
       "    .dataframe tbody tr th {\n",
       "        vertical-align: top;\n",
       "    }\n",
       "\n",
       "    .dataframe thead th {\n",
       "        text-align: right;\n",
       "    }\n",
       "</style>\n",
       "<table border=\"1\" class=\"dataframe\">\n",
       "  <thead>\n",
       "    <tr style=\"text-align: right;\">\n",
       "      <th></th>\n",
       "      <th>ranking</th>\n",
       "      <th>country</th>\n",
       "      <th>technology</th>\n",
       "      <th>talent</th>\n",
       "      <th>tolerance</th>\n",
       "      <th>creativity</th>\n",
       "      <th>ages</th>\n",
       "      <th>list_price</th>\n",
       "      <th>num_reviews</th>\n",
       "      <th>piece_count</th>\n",
       "      <th>play_star_rating</th>\n",
       "      <th>prod_id</th>\n",
       "      <th>prod_long_desc</th>\n",
       "      <th>review_difficulty</th>\n",
       "      <th>set_name</th>\n",
       "      <th>star_rating</th>\n",
       "      <th>theme_name</th>\n",
       "      <th>val_star_rating</th>\n",
       "    </tr>\n",
       "  </thead>\n",
       "  <tbody>\n",
       "    <tr>\n",
       "      <th>19</th>\n",
       "      <td>1</td>\n",
       "      <td>AU</td>\n",
       "      <td>7</td>\n",
       "      <td>1</td>\n",
       "      <td>4</td>\n",
       "      <td>0.97</td>\n",
       "      <td>10+</td>\n",
       "      <td>12.1524</td>\n",
       "      <td>1.000000</td>\n",
       "      <td>136.0</td>\n",
       "      <td>4.337585</td>\n",
       "      <td>41607.0</td>\n",
       "      <td>This Gamora LEGO® BrickHeadz construction char...</td>\n",
       "      <td>NaN</td>\n",
       "      <td>Gamora</td>\n",
       "      <td>5.000000</td>\n",
       "      <td>BrickHeadz</td>\n",
       "      <td>4.229398</td>\n",
       "    </tr>\n",
       "    <tr>\n",
       "      <th>29</th>\n",
       "      <td>1</td>\n",
       "      <td>AU</td>\n",
       "      <td>7</td>\n",
       "      <td>1</td>\n",
       "      <td>4</td>\n",
       "      <td>0.97</td>\n",
       "      <td>10+</td>\n",
       "      <td>22.7924</td>\n",
       "      <td>16.826383</td>\n",
       "      <td>209.0</td>\n",
       "      <td>4.337585</td>\n",
       "      <td>41610.0</td>\n",
       "      <td>These LEGO® BrickHeadz™ 41610 Tactical Batman™...</td>\n",
       "      <td>NaN</td>\n",
       "      <td>Tactical Batman™ &amp; Superman™</td>\n",
       "      <td>4.514286</td>\n",
       "      <td>BrickHeadz</td>\n",
       "      <td>4.229398</td>\n",
       "    </tr>\n",
       "    <tr>\n",
       "      <th>38</th>\n",
       "      <td>1</td>\n",
       "      <td>AU</td>\n",
       "      <td>7</td>\n",
       "      <td>1</td>\n",
       "      <td>4</td>\n",
       "      <td>0.97</td>\n",
       "      <td>7-12</td>\n",
       "      <td>121.5924</td>\n",
       "      <td>1.000000</td>\n",
       "      <td>883.0</td>\n",
       "      <td>5.000000</td>\n",
       "      <td>60188.0</td>\n",
       "      <td>Grab your hard hat and head out to the LEGO® C...</td>\n",
       "      <td>NaN</td>\n",
       "      <td>Mining Experts Site</td>\n",
       "      <td>5.000000</td>\n",
       "      <td>City</td>\n",
       "      <td>5.000000</td>\n",
       "    </tr>\n",
       "    <tr>\n",
       "      <th>51</th>\n",
       "      <td>1</td>\n",
       "      <td>AU</td>\n",
       "      <td>7</td>\n",
       "      <td>1</td>\n",
       "      <td>4</td>\n",
       "      <td>0.97</td>\n",
       "      <td>5-12</td>\n",
       "      <td>45.5924</td>\n",
       "      <td>16.826383</td>\n",
       "      <td>387.0</td>\n",
       "      <td>4.337585</td>\n",
       "      <td>60175.0</td>\n",
       "      <td>Pick up your badge and join the LEGO® City Mou...</td>\n",
       "      <td>NaN</td>\n",
       "      <td>Mountain River Heist</td>\n",
       "      <td>4.514286</td>\n",
       "      <td>City</td>\n",
       "      <td>4.229398</td>\n",
       "    </tr>\n",
       "    <tr>\n",
       "      <th>52</th>\n",
       "      <td>1</td>\n",
       "      <td>AU</td>\n",
       "      <td>7</td>\n",
       "      <td>1</td>\n",
       "      <td>4</td>\n",
       "      <td>0.97</td>\n",
       "      <td>5-12</td>\n",
       "      <td>37.9924</td>\n",
       "      <td>16.826383</td>\n",
       "      <td>297.0</td>\n",
       "      <td>4.337585</td>\n",
       "      <td>60172.0</td>\n",
       "      <td>Pick up your badge and join the LEGO® City Mou...</td>\n",
       "      <td>NaN</td>\n",
       "      <td>Dirt Road Pursuit</td>\n",
       "      <td>4.514286</td>\n",
       "      <td>City</td>\n",
       "      <td>4.229398</td>\n",
       "    </tr>\n",
       "  </tbody>\n",
       "</table>\n",
       "</div>"
      ],
      "text/plain": [
       "    ranking country technology talent tolerance  creativity  ages  list_price  \\\n",
       "19        1      AU          7      1         4        0.97   10+     12.1524   \n",
       "29        1      AU          7      1         4        0.97   10+     22.7924   \n",
       "38        1      AU          7      1         4        0.97  7-12    121.5924   \n",
       "51        1      AU          7      1         4        0.97  5-12     45.5924   \n",
       "52        1      AU          7      1         4        0.97  5-12     37.9924   \n",
       "\n",
       "    num_reviews  piece_count  play_star_rating  prod_id  \\\n",
       "19     1.000000        136.0          4.337585  41607.0   \n",
       "29    16.826383        209.0          4.337585  41610.0   \n",
       "38     1.000000        883.0          5.000000  60188.0   \n",
       "51    16.826383        387.0          4.337585  60175.0   \n",
       "52    16.826383        297.0          4.337585  60172.0   \n",
       "\n",
       "                                       prod_long_desc review_difficulty  \\\n",
       "19  This Gamora LEGO® BrickHeadz construction char...               NaN   \n",
       "29  These LEGO® BrickHeadz™ 41610 Tactical Batman™...               NaN   \n",
       "38  Grab your hard hat and head out to the LEGO® C...               NaN   \n",
       "51  Pick up your badge and join the LEGO® City Mou...               NaN   \n",
       "52  Pick up your badge and join the LEGO® City Mou...               NaN   \n",
       "\n",
       "                        set_name  star_rating  theme_name  val_star_rating  \n",
       "19                        Gamora     5.000000  BrickHeadz         4.229398  \n",
       "29  Tactical Batman™ & Superman™     4.514286  BrickHeadz         4.229398  \n",
       "38           Mining Experts Site     5.000000        City         5.000000  \n",
       "51          Mountain River Heist     4.514286        City         4.229398  \n",
       "52             Dirt Road Pursuit     4.514286        City         4.229398  "
      ]
     },
     "execution_count": 13,
     "metadata": {},
     "output_type": "execute_result"
    }
   ],
   "source": [
    "df[df.review_difficulty.isnull()].head()"
   ]
  },
  {
   "cell_type": "markdown",
   "metadata": {
    "slideshow": {
     "slide_type": "subslide"
    }
   },
   "source": [
    "#### Explore using a model to predict the values for review_difficulty\n",
    "> We will use the piece_count and play_star_rating as the features to help classify missing values for review_difficulty. Source https://towardsdatascience.com/the-tale-of-missing-values-in-python-c96beb0e8a9d. The process goes thus:\n",
    "- Call the variable where you have missing values as y.\n",
    "- Split data into sets with missing values and without missing values, name the missing set X_test and the one without missing values X_train and take y (variable or feature where there is missing values) off the second set, naming it y_train.\n",
    "- Use one of classification methods to predict y_pred.\n",
    "- Add it to X_test as your y_test column. Then combine sets together.\n",
    "\n",
    "<img src=\"Lego_04.png\" alt=\"LEGO Classifier\" title=\"LEGO Classifier\"/>"
   ]
  },
  {
   "cell_type": "code",
   "execution_count": 14,
   "metadata": {
    "slideshow": {
     "slide_type": "subslide"
    }
   },
   "outputs": [],
   "source": [
    "from sklearn.neighbors import KNeighborsClassifier\n",
    "from sklearn.model_selection import train_test_split\n",
    "from sklearn import metrics\n",
    "from sklearn.preprocessing import StandardScaler\n",
    "\n",
    "dfr_test = df[df.review_difficulty.isnull()]\n",
    "dfr_train = df.dropna()\n",
    "dfr_results = dfr_test.drop(['review_difficulty'], axis=1)\n",
    "\n",
    "feature_cols = ['piece_count', 'play_star_rating']\n",
    "\n",
    "y_pred = dfr_test.review_difficulty\n",
    "X_test = dfr_test[feature_cols]\n",
    "\n",
    "y_train = dfr_train.review_difficulty\n",
    "X_train = dfr_train[feature_cols]\n",
    "\n",
    "scaler = StandardScaler()\n",
    "X_train_s = scaler.fit_transform(X_train)\n",
    "X_test_s = scaler.transform(X_test)\n",
    "\n",
    "knn = KNeighborsClassifier(n_neighbors=1)\n",
    "knn.fit(X_train_s, y_train)\n",
    "\n",
    "y_pred = knn.predict(X_test_s)\n",
    "y = y_pred.tolist()\n",
    "\n",
    "columns=['review_difficulty']\n",
    "index=dfr_results.index.values.tolist()\n",
    "\n",
    "ydf = pd.DataFrame(y,columns=columns,index=index)\n",
    "dfr_results = dfr_results.join(ydf)\n",
    "\n",
    "frames = [dfr_train, dfr_results]\n",
    "dfr = pd.concat(frames, sort=True)"
   ]
  },
  {
   "cell_type": "markdown",
   "metadata": {
    "slideshow": {
     "slide_type": "slide"
    }
   },
   "source": [
    "#### Working dataframe insights\n",
    "Missing values have been dealt with, now we start to work with our working dataframe:\n",
    "- Changing data type for talent, technology, tolerance which are numerical anyways as per documentation.\n",
    "- Changing review_difficulty from categorical into numerical using get_dummies - but combining data points to fix imbalance"
   ]
  },
  {
   "cell_type": "code",
   "execution_count": 15,
   "metadata": {},
   "outputs": [],
   "source": [
    "dfr['talent'] = dfr['talent'].astype(int)\n",
    "dfr['technology'] = dfr['technology'].astype(int)\n",
    "dfr['tolerance'] = dfr['tolerance'].astype(int)"
   ]
  },
  {
   "cell_type": "code",
   "execution_count": 16,
   "metadata": {
    "slideshow": {
     "slide_type": "subslide"
    }
   },
   "outputs": [
    {
     "data": {
      "text/plain": [
       "Easy                5195\n",
       "Average             4079\n",
       "Very Easy           1316\n",
       "Challenging         1086\n",
       "Very Challenging       7\n",
       "Name: review_difficulty, dtype: int64"
      ]
     },
     "execution_count": 16,
     "metadata": {},
     "output_type": "execute_result"
    }
   ],
   "source": [
    "dfr.review_difficulty.value_counts()"
   ]
  },
  {
   "cell_type": "code",
   "execution_count": 17,
   "metadata": {
    "slideshow": {
     "slide_type": "subslide"
    }
   },
   "outputs": [
    {
     "data": {
      "text/plain": [
       "easy           6511\n",
       "challenging    5172\n",
       "Name: review_difficulty, dtype: int64"
      ]
     },
     "execution_count": 17,
     "metadata": {},
     "output_type": "execute_result"
    }
   ],
   "source": [
    "dfr.review_difficulty.replace('Very Easy','easy',inplace=True)\n",
    "dfr.review_difficulty.replace('Easy','easy',inplace=True)\n",
    "dfr.review_difficulty.replace('Average','challenging',inplace=True)\n",
    "dfr.review_difficulty.replace('Challenging','challenging',inplace=True)\n",
    "dfr.review_difficulty.replace('Very Challenging','challenging',inplace=True)\n",
    "dfr.review_difficulty.value_counts()"
   ]
  },
  {
   "cell_type": "code",
   "execution_count": 18,
   "metadata": {},
   "outputs": [],
   "source": [
    "dfd = dfr.copy()\n",
    "dfd = pd.get_dummies(dfd, columns=['review_difficulty'], prefix = ['difficulty'])\n",
    "dfd = pd.get_dummies(dfd, columns=['country'], prefix = ['country'])"
   ]
  },
  {
   "cell_type": "code",
   "execution_count": 19,
   "metadata": {
    "slideshow": {
     "slide_type": "subslide"
    }
   },
   "outputs": [
    {
     "data": {
      "text/html": [
       "<div>\n",
       "<style scoped>\n",
       "    .dataframe tbody tr th:only-of-type {\n",
       "        vertical-align: middle;\n",
       "    }\n",
       "\n",
       "    .dataframe tbody tr th {\n",
       "        vertical-align: top;\n",
       "    }\n",
       "\n",
       "    .dataframe thead th {\n",
       "        text-align: right;\n",
       "    }\n",
       "</style>\n",
       "<table border=\"1\" class=\"dataframe\">\n",
       "  <thead>\n",
       "    <tr style=\"text-align: right;\">\n",
       "      <th></th>\n",
       "      <th>ages</th>\n",
       "      <th>creativity</th>\n",
       "      <th>list_price</th>\n",
       "      <th>num_reviews</th>\n",
       "      <th>piece_count</th>\n",
       "      <th>play_star_rating</th>\n",
       "      <th>prod_id</th>\n",
       "      <th>prod_long_desc</th>\n",
       "      <th>ranking</th>\n",
       "      <th>set_name</th>\n",
       "      <th>...</th>\n",
       "      <th>country_GB</th>\n",
       "      <th>country_IE</th>\n",
       "      <th>country_IT</th>\n",
       "      <th>country_LU</th>\n",
       "      <th>country_NL</th>\n",
       "      <th>country_NO</th>\n",
       "      <th>country_NZ</th>\n",
       "      <th>country_PL</th>\n",
       "      <th>country_PT</th>\n",
       "      <th>country_US</th>\n",
       "    </tr>\n",
       "  </thead>\n",
       "  <tbody>\n",
       "    <tr>\n",
       "      <th>0</th>\n",
       "      <td>12+</td>\n",
       "      <td>0.97</td>\n",
       "      <td>113.9924</td>\n",
       "      <td>23.0</td>\n",
       "      <td>1032.0</td>\n",
       "      <td>3.6</td>\n",
       "      <td>21030.0</td>\n",
       "      <td>Discover the architectural secrets of the icon...</td>\n",
       "      <td>1</td>\n",
       "      <td>United States Capitol Building</td>\n",
       "      <td>...</td>\n",
       "      <td>0</td>\n",
       "      <td>0</td>\n",
       "      <td>0</td>\n",
       "      <td>0</td>\n",
       "      <td>0</td>\n",
       "      <td>0</td>\n",
       "      <td>0</td>\n",
       "      <td>0</td>\n",
       "      <td>0</td>\n",
       "      <td>0</td>\n",
       "    </tr>\n",
       "    <tr>\n",
       "      <th>1</th>\n",
       "      <td>12+</td>\n",
       "      <td>0.97</td>\n",
       "      <td>75.9924</td>\n",
       "      <td>14.0</td>\n",
       "      <td>744.0</td>\n",
       "      <td>3.2</td>\n",
       "      <td>21035.0</td>\n",
       "      <td>Discover the architectural secrets of Frank Ll...</td>\n",
       "      <td>1</td>\n",
       "      <td>Solomon R. Guggenheim Museum®</td>\n",
       "      <td>...</td>\n",
       "      <td>0</td>\n",
       "      <td>0</td>\n",
       "      <td>0</td>\n",
       "      <td>0</td>\n",
       "      <td>0</td>\n",
       "      <td>0</td>\n",
       "      <td>0</td>\n",
       "      <td>0</td>\n",
       "      <td>0</td>\n",
       "      <td>0</td>\n",
       "    </tr>\n",
       "    <tr>\n",
       "      <th>2</th>\n",
       "      <td>12+</td>\n",
       "      <td>0.97</td>\n",
       "      <td>60.7924</td>\n",
       "      <td>7.0</td>\n",
       "      <td>597.0</td>\n",
       "      <td>3.7</td>\n",
       "      <td>21039.0</td>\n",
       "      <td>Recreate Shanghai in China's blend of historic...</td>\n",
       "      <td>1</td>\n",
       "      <td>Shanghai</td>\n",
       "      <td>...</td>\n",
       "      <td>0</td>\n",
       "      <td>0</td>\n",
       "      <td>0</td>\n",
       "      <td>0</td>\n",
       "      <td>0</td>\n",
       "      <td>0</td>\n",
       "      <td>0</td>\n",
       "      <td>0</td>\n",
       "      <td>0</td>\n",
       "      <td>0</td>\n",
       "    </tr>\n",
       "    <tr>\n",
       "      <th>3</th>\n",
       "      <td>12+</td>\n",
       "      <td>0.97</td>\n",
       "      <td>53.1924</td>\n",
       "      <td>24.0</td>\n",
       "      <td>780.0</td>\n",
       "      <td>4.4</td>\n",
       "      <td>21029.0</td>\n",
       "      <td>Build a LEGO® brick model of London's official...</td>\n",
       "      <td>1</td>\n",
       "      <td>Buckingham Palace</td>\n",
       "      <td>...</td>\n",
       "      <td>0</td>\n",
       "      <td>0</td>\n",
       "      <td>0</td>\n",
       "      <td>0</td>\n",
       "      <td>0</td>\n",
       "      <td>0</td>\n",
       "      <td>0</td>\n",
       "      <td>0</td>\n",
       "      <td>0</td>\n",
       "      <td>0</td>\n",
       "    </tr>\n",
       "    <tr>\n",
       "      <th>4</th>\n",
       "      <td>12+</td>\n",
       "      <td>0.97</td>\n",
       "      <td>53.1924</td>\n",
       "      <td>37.0</td>\n",
       "      <td>598.0</td>\n",
       "      <td>3.7</td>\n",
       "      <td>21028.0</td>\n",
       "      <td>Celebrate the architectural diversity of New Y...</td>\n",
       "      <td>1</td>\n",
       "      <td>New York City</td>\n",
       "      <td>...</td>\n",
       "      <td>0</td>\n",
       "      <td>0</td>\n",
       "      <td>0</td>\n",
       "      <td>0</td>\n",
       "      <td>0</td>\n",
       "      <td>0</td>\n",
       "      <td>0</td>\n",
       "      <td>0</td>\n",
       "      <td>0</td>\n",
       "      <td>0</td>\n",
       "    </tr>\n",
       "  </tbody>\n",
       "</table>\n",
       "<p>5 rows × 38 columns</p>\n",
       "</div>"
      ],
      "text/plain": [
       "  ages  creativity  list_price  num_reviews  piece_count  play_star_rating  \\\n",
       "0  12+        0.97    113.9924         23.0       1032.0               3.6   \n",
       "1  12+        0.97     75.9924         14.0        744.0               3.2   \n",
       "2  12+        0.97     60.7924          7.0        597.0               3.7   \n",
       "3  12+        0.97     53.1924         24.0        780.0               4.4   \n",
       "4  12+        0.97     53.1924         37.0        598.0               3.7   \n",
       "\n",
       "   prod_id                                     prod_long_desc  ranking  \\\n",
       "0  21030.0  Discover the architectural secrets of the icon...        1   \n",
       "1  21035.0  Discover the architectural secrets of Frank Ll...        1   \n",
       "2  21039.0  Recreate Shanghai in China's blend of historic...        1   \n",
       "3  21029.0  Build a LEGO® brick model of London's official...        1   \n",
       "4  21028.0  Celebrate the architectural diversity of New Y...        1   \n",
       "\n",
       "                         set_name     ...      country_GB  country_IE  \\\n",
       "0  United States Capitol Building     ...               0           0   \n",
       "1   Solomon R. Guggenheim Museum®     ...               0           0   \n",
       "2                        Shanghai     ...               0           0   \n",
       "3               Buckingham Palace     ...               0           0   \n",
       "4                   New York City     ...               0           0   \n",
       "\n",
       "   country_IT country_LU  country_NL  country_NO  country_NZ  country_PL  \\\n",
       "0           0          0           0           0           0           0   \n",
       "1           0          0           0           0           0           0   \n",
       "2           0          0           0           0           0           0   \n",
       "3           0          0           0           0           0           0   \n",
       "4           0          0           0           0           0           0   \n",
       "\n",
       "   country_PT  country_US  \n",
       "0           0           0  \n",
       "1           0           0  \n",
       "2           0           0  \n",
       "3           0           0  \n",
       "4           0           0  \n",
       "\n",
       "[5 rows x 38 columns]"
      ]
     },
     "execution_count": 19,
     "metadata": {},
     "output_type": "execute_result"
    }
   ],
   "source": [
    "dfd.head()"
   ]
  },
  {
   "cell_type": "code",
   "execution_count": 20,
   "metadata": {
    "slideshow": {
     "slide_type": "subslide"
    }
   },
   "outputs": [
    {
     "data": {
      "text/html": [
       "<div>\n",
       "<style scoped>\n",
       "    .dataframe tbody tr th:only-of-type {\n",
       "        vertical-align: middle;\n",
       "    }\n",
       "\n",
       "    .dataframe tbody tr th {\n",
       "        vertical-align: top;\n",
       "    }\n",
       "\n",
       "    .dataframe thead th {\n",
       "        text-align: right;\n",
       "    }\n",
       "</style>\n",
       "<table border=\"1\" class=\"dataframe\">\n",
       "  <thead>\n",
       "    <tr style=\"text-align: right;\">\n",
       "      <th></th>\n",
       "      <th>ages</th>\n",
       "      <th>creativity</th>\n",
       "      <th>list_price</th>\n",
       "      <th>num_reviews</th>\n",
       "      <th>piece_count</th>\n",
       "      <th>play_star_rating</th>\n",
       "      <th>prod_id</th>\n",
       "      <th>prod_long_desc</th>\n",
       "      <th>ranking</th>\n",
       "      <th>set_name</th>\n",
       "      <th>...</th>\n",
       "      <th>country_GB</th>\n",
       "      <th>country_IE</th>\n",
       "      <th>country_IT</th>\n",
       "      <th>country_LU</th>\n",
       "      <th>country_NL</th>\n",
       "      <th>country_NO</th>\n",
       "      <th>country_NZ</th>\n",
       "      <th>country_PL</th>\n",
       "      <th>country_PT</th>\n",
       "      <th>country_US</th>\n",
       "    </tr>\n",
       "  </thead>\n",
       "  <tbody>\n",
       "    <tr>\n",
       "      <th>11568</th>\n",
       "      <td>8-14</td>\n",
       "      <td>0.516</td>\n",
       "      <td>37.6971</td>\n",
       "      <td>16.826383</td>\n",
       "      <td>104.0</td>\n",
       "      <td>4.337585</td>\n",
       "      <td>75537.0</td>\n",
       "      <td>Bolster your LEGO® Star Wars collection with t...</td>\n",
       "      <td>46</td>\n",
       "      <td>Darth Maul™</td>\n",
       "      <td>...</td>\n",
       "      <td>0</td>\n",
       "      <td>0</td>\n",
       "      <td>0</td>\n",
       "      <td>0</td>\n",
       "      <td>0</td>\n",
       "      <td>0</td>\n",
       "      <td>0</td>\n",
       "      <td>1</td>\n",
       "      <td>0</td>\n",
       "      <td>0</td>\n",
       "    </tr>\n",
       "    <tr>\n",
       "      <th>11569</th>\n",
       "      <td>8-14</td>\n",
       "      <td>0.516</td>\n",
       "      <td>37.6971</td>\n",
       "      <td>16.826383</td>\n",
       "      <td>101.0</td>\n",
       "      <td>4.337585</td>\n",
       "      <td>75535.0</td>\n",
       "      <td>Play out exciting adventures with this highly ...</td>\n",
       "      <td>46</td>\n",
       "      <td>Han Solo™</td>\n",
       "      <td>...</td>\n",
       "      <td>0</td>\n",
       "      <td>0</td>\n",
       "      <td>0</td>\n",
       "      <td>0</td>\n",
       "      <td>0</td>\n",
       "      <td>0</td>\n",
       "      <td>0</td>\n",
       "      <td>1</td>\n",
       "      <td>0</td>\n",
       "      <td>0</td>\n",
       "    </tr>\n",
       "    <tr>\n",
       "      <th>11640</th>\n",
       "      <td>7-14</td>\n",
       "      <td>0.516</td>\n",
       "      <td>26.0971</td>\n",
       "      <td>1.000000</td>\n",
       "      <td>135.0</td>\n",
       "      <td>5.000000</td>\n",
       "      <td>42072.0</td>\n",
       "      <td>Experience the amazing power and acceleration ...</td>\n",
       "      <td>46</td>\n",
       "      <td>WHACK!</td>\n",
       "      <td>...</td>\n",
       "      <td>0</td>\n",
       "      <td>0</td>\n",
       "      <td>0</td>\n",
       "      <td>0</td>\n",
       "      <td>0</td>\n",
       "      <td>0</td>\n",
       "      <td>0</td>\n",
       "      <td>1</td>\n",
       "      <td>0</td>\n",
       "      <td>0</td>\n",
       "    </tr>\n",
       "    <tr>\n",
       "      <th>11661</th>\n",
       "      <td>7-14</td>\n",
       "      <td>0.516</td>\n",
       "      <td>34.7971</td>\n",
       "      <td>2.000000</td>\n",
       "      <td>198.0</td>\n",
       "      <td>4.000000</td>\n",
       "      <td>70918.0</td>\n",
       "      <td>Glide over bumps in the Gotham City streets an...</td>\n",
       "      <td>46</td>\n",
       "      <td>The Bat-Dune Buggy</td>\n",
       "      <td>...</td>\n",
       "      <td>0</td>\n",
       "      <td>0</td>\n",
       "      <td>0</td>\n",
       "      <td>0</td>\n",
       "      <td>0</td>\n",
       "      <td>0</td>\n",
       "      <td>0</td>\n",
       "      <td>1</td>\n",
       "      <td>0</td>\n",
       "      <td>0</td>\n",
       "    </tr>\n",
       "    <tr>\n",
       "      <th>11685</th>\n",
       "      <td>6-14</td>\n",
       "      <td>0.516</td>\n",
       "      <td>13.0471</td>\n",
       "      <td>16.826383</td>\n",
       "      <td>48.0</td>\n",
       "      <td>4.337585</td>\n",
       "      <td>70628.0</td>\n",
       "      <td>Learn all the skills of Spinjitzu with THE LEG...</td>\n",
       "      <td>46</td>\n",
       "      <td>Lloyd - Spinjitzu Master</td>\n",
       "      <td>...</td>\n",
       "      <td>0</td>\n",
       "      <td>0</td>\n",
       "      <td>0</td>\n",
       "      <td>0</td>\n",
       "      <td>0</td>\n",
       "      <td>0</td>\n",
       "      <td>0</td>\n",
       "      <td>1</td>\n",
       "      <td>0</td>\n",
       "      <td>0</td>\n",
       "    </tr>\n",
       "  </tbody>\n",
       "</table>\n",
       "<p>5 rows × 38 columns</p>\n",
       "</div>"
      ],
      "text/plain": [
       "       ages  creativity  list_price  num_reviews  piece_count  \\\n",
       "11568  8-14       0.516     37.6971    16.826383        104.0   \n",
       "11569  8-14       0.516     37.6971    16.826383        101.0   \n",
       "11640  7-14       0.516     26.0971     1.000000        135.0   \n",
       "11661  7-14       0.516     34.7971     2.000000        198.0   \n",
       "11685  6-14       0.516     13.0471    16.826383         48.0   \n",
       "\n",
       "       play_star_rating  prod_id  \\\n",
       "11568          4.337585  75537.0   \n",
       "11569          4.337585  75535.0   \n",
       "11640          5.000000  42072.0   \n",
       "11661          4.000000  70918.0   \n",
       "11685          4.337585  70628.0   \n",
       "\n",
       "                                          prod_long_desc  ranking  \\\n",
       "11568  Bolster your LEGO® Star Wars collection with t...       46   \n",
       "11569  Play out exciting adventures with this highly ...       46   \n",
       "11640  Experience the amazing power and acceleration ...       46   \n",
       "11661  Glide over bumps in the Gotham City streets an...       46   \n",
       "11685  Learn all the skills of Spinjitzu with THE LEG...       46   \n",
       "\n",
       "                       set_name     ...      country_GB  country_IE  \\\n",
       "11568               Darth Maul™     ...               0           0   \n",
       "11569                 Han Solo™     ...               0           0   \n",
       "11640                    WHACK!     ...               0           0   \n",
       "11661        The Bat-Dune Buggy     ...               0           0   \n",
       "11685  Lloyd - Spinjitzu Master     ...               0           0   \n",
       "\n",
       "       country_IT country_LU  country_NL  country_NO  country_NZ  country_PL  \\\n",
       "11568           0          0           0           0           0           1   \n",
       "11569           0          0           0           0           0           1   \n",
       "11640           0          0           0           0           0           1   \n",
       "11661           0          0           0           0           0           1   \n",
       "11685           0          0           0           0           0           1   \n",
       "\n",
       "       country_PT  country_US  \n",
       "11568           0           0  \n",
       "11569           0           0  \n",
       "11640           0           0  \n",
       "11661           0           0  \n",
       "11685           0           0  \n",
       "\n",
       "[5 rows x 38 columns]"
      ]
     },
     "execution_count": 20,
     "metadata": {},
     "output_type": "execute_result"
    }
   ],
   "source": [
    "dfd.tail()"
   ]
  },
  {
   "cell_type": "code",
   "execution_count": 21,
   "metadata": {
    "slideshow": {
     "slide_type": "subslide"
    }
   },
   "outputs": [
    {
     "data": {
      "text/plain": [
       "(11683, 38)"
      ]
     },
     "execution_count": 21,
     "metadata": {},
     "output_type": "execute_result"
    }
   ],
   "source": [
    "dfd.shape"
   ]
  },
  {
   "cell_type": "code",
   "execution_count": 22,
   "metadata": {
    "slideshow": {
     "slide_type": "subslide"
    }
   },
   "outputs": [
    {
     "name": "stdout",
     "output_type": "stream",
     "text": [
      "<class 'pandas.core.frame.DataFrame'>\n",
      "Int64Index: 11683 entries, 0 to 11685\n",
      "Data columns (total 38 columns):\n",
      "ages                      11683 non-null object\n",
      "creativity                11683 non-null float64\n",
      "list_price                11683 non-null float64\n",
      "num_reviews               11683 non-null float64\n",
      "piece_count               11683 non-null float64\n",
      "play_star_rating          11683 non-null float64\n",
      "prod_id                   11683 non-null float64\n",
      "prod_long_desc            11683 non-null object\n",
      "ranking                   11683 non-null int64\n",
      "set_name                  11683 non-null object\n",
      "star_rating               11683 non-null float64\n",
      "talent                    11683 non-null int64\n",
      "technology                11683 non-null int64\n",
      "theme_name                11683 non-null object\n",
      "tolerance                 11683 non-null int64\n",
      "val_star_rating           11683 non-null float64\n",
      "difficulty_challenging    11683 non-null uint8\n",
      "difficulty_easy           11683 non-null uint8\n",
      "country_AT                11683 non-null uint8\n",
      "country_AU                11683 non-null uint8\n",
      "country_BE                11683 non-null uint8\n",
      "country_CA                11683 non-null uint8\n",
      "country_CH                11683 non-null uint8\n",
      "country_CZ                11683 non-null uint8\n",
      "country_DE                11683 non-null uint8\n",
      "country_ES                11683 non-null uint8\n",
      "country_FI                11683 non-null uint8\n",
      "country_FR                11683 non-null uint8\n",
      "country_GB                11683 non-null uint8\n",
      "country_IE                11683 non-null uint8\n",
      "country_IT                11683 non-null uint8\n",
      "country_LU                11683 non-null uint8\n",
      "country_NL                11683 non-null uint8\n",
      "country_NO                11683 non-null uint8\n",
      "country_NZ                11683 non-null uint8\n",
      "country_PL                11683 non-null uint8\n",
      "country_PT                11683 non-null uint8\n",
      "country_US                11683 non-null uint8\n",
      "dtypes: float64(8), int64(4), object(4), uint8(22)\n",
      "memory usage: 1.8+ MB\n"
     ]
    }
   ],
   "source": [
    "dfd.info()"
   ]
  },
  {
   "cell_type": "code",
   "execution_count": 23,
   "metadata": {
    "slideshow": {
     "slide_type": "subslide"
    }
   },
   "outputs": [
    {
     "data": {
      "text/html": [
       "<div>\n",
       "<style scoped>\n",
       "    .dataframe tbody tr th:only-of-type {\n",
       "        vertical-align: middle;\n",
       "    }\n",
       "\n",
       "    .dataframe tbody tr th {\n",
       "        vertical-align: top;\n",
       "    }\n",
       "\n",
       "    .dataframe thead th {\n",
       "        text-align: right;\n",
       "    }\n",
       "</style>\n",
       "<table border=\"1\" class=\"dataframe\">\n",
       "  <thead>\n",
       "    <tr style=\"text-align: right;\">\n",
       "      <th></th>\n",
       "      <th>creativity</th>\n",
       "      <th>list_price</th>\n",
       "      <th>num_reviews</th>\n",
       "      <th>piece_count</th>\n",
       "      <th>play_star_rating</th>\n",
       "      <th>prod_id</th>\n",
       "      <th>ranking</th>\n",
       "      <th>star_rating</th>\n",
       "      <th>talent</th>\n",
       "      <th>technology</th>\n",
       "      <th>...</th>\n",
       "      <th>country_GB</th>\n",
       "      <th>country_IE</th>\n",
       "      <th>country_IT</th>\n",
       "      <th>country_LU</th>\n",
       "      <th>country_NL</th>\n",
       "      <th>country_NO</th>\n",
       "      <th>country_NZ</th>\n",
       "      <th>country_PL</th>\n",
       "      <th>country_PT</th>\n",
       "      <th>country_US</th>\n",
       "    </tr>\n",
       "  </thead>\n",
       "  <tbody>\n",
       "    <tr>\n",
       "      <th>count</th>\n",
       "      <td>11683.000000</td>\n",
       "      <td>11683.000000</td>\n",
       "      <td>11683.000000</td>\n",
       "      <td>11683.000000</td>\n",
       "      <td>11683.000000</td>\n",
       "      <td>1.168300e+04</td>\n",
       "      <td>11683.000000</td>\n",
       "      <td>11683.000000</td>\n",
       "      <td>11683.000000</td>\n",
       "      <td>11683.000000</td>\n",
       "      <td>...</td>\n",
       "      <td>11683.000000</td>\n",
       "      <td>11683.000000</td>\n",
       "      <td>11683.000000</td>\n",
       "      <td>11683.000000</td>\n",
       "      <td>11683.000000</td>\n",
       "      <td>11683.000000</td>\n",
       "      <td>11683.000000</td>\n",
       "      <td>11683.000000</td>\n",
       "      <td>11683.000000</td>\n",
       "      <td>11683.000000</td>\n",
       "    </tr>\n",
       "    <tr>\n",
       "      <th>mean</th>\n",
       "      <td>0.823989</td>\n",
       "      <td>65.628233</td>\n",
       "      <td>16.828478</td>\n",
       "      <td>493.429171</td>\n",
       "      <td>4.337586</td>\n",
       "      <td>5.981620e+04</td>\n",
       "      <td>15.013438</td>\n",
       "      <td>4.514298</td>\n",
       "      <td>19.510913</td>\n",
       "      <td>18.427031</td>\n",
       "      <td>...</td>\n",
       "      <td>0.049302</td>\n",
       "      <td>0.048532</td>\n",
       "      <td>0.047077</td>\n",
       "      <td>0.046991</td>\n",
       "      <td>0.049302</td>\n",
       "      <td>0.046991</td>\n",
       "      <td>0.048361</td>\n",
       "      <td>0.045365</td>\n",
       "      <td>0.046820</td>\n",
       "      <td>0.069931</td>\n",
       "    </tr>\n",
       "    <tr>\n",
       "      <th>std</th>\n",
       "      <td>0.114042</td>\n",
       "      <td>92.745505</td>\n",
       "      <td>33.873470</td>\n",
       "      <td>825.194767</td>\n",
       "      <td>0.603196</td>\n",
       "      <td>1.638049e+05</td>\n",
       "      <td>10.884040</td>\n",
       "      <td>0.483500</td>\n",
       "      <td>11.619876</td>\n",
       "      <td>10.704840</td>\n",
       "      <td>...</td>\n",
       "      <td>0.216508</td>\n",
       "      <td>0.214897</td>\n",
       "      <td>0.211813</td>\n",
       "      <td>0.211629</td>\n",
       "      <td>0.216508</td>\n",
       "      <td>0.211629</td>\n",
       "      <td>0.214537</td>\n",
       "      <td>0.208112</td>\n",
       "      <td>0.211263</td>\n",
       "      <td>0.255041</td>\n",
       "    </tr>\n",
       "    <tr>\n",
       "      <th>min</th>\n",
       "      <td>0.516000</td>\n",
       "      <td>2.272400</td>\n",
       "      <td>1.000000</td>\n",
       "      <td>1.000000</td>\n",
       "      <td>1.000000</td>\n",
       "      <td>6.300000e+02</td>\n",
       "      <td>1.000000</td>\n",
       "      <td>1.800000</td>\n",
       "      <td>1.000000</td>\n",
       "      <td>4.000000</td>\n",
       "      <td>...</td>\n",
       "      <td>0.000000</td>\n",
       "      <td>0.000000</td>\n",
       "      <td>0.000000</td>\n",
       "      <td>0.000000</td>\n",
       "      <td>0.000000</td>\n",
       "      <td>0.000000</td>\n",
       "      <td>0.000000</td>\n",
       "      <td>0.000000</td>\n",
       "      <td>0.000000</td>\n",
       "      <td>0.000000</td>\n",
       "    </tr>\n",
       "    <tr>\n",
       "      <th>25%</th>\n",
       "      <td>0.788000</td>\n",
       "      <td>19.990000</td>\n",
       "      <td>3.000000</td>\n",
       "      <td>97.000000</td>\n",
       "      <td>4.100000</td>\n",
       "      <td>2.103400e+04</td>\n",
       "      <td>5.000000</td>\n",
       "      <td>4.300000</td>\n",
       "      <td>11.000000</td>\n",
       "      <td>7.000000</td>\n",
       "      <td>...</td>\n",
       "      <td>0.000000</td>\n",
       "      <td>0.000000</td>\n",
       "      <td>0.000000</td>\n",
       "      <td>0.000000</td>\n",
       "      <td>0.000000</td>\n",
       "      <td>0.000000</td>\n",
       "      <td>0.000000</td>\n",
       "      <td>0.000000</td>\n",
       "      <td>0.000000</td>\n",
       "      <td>0.000000</td>\n",
       "    </tr>\n",
       "    <tr>\n",
       "      <th>50%</th>\n",
       "      <td>0.837000</td>\n",
       "      <td>36.587800</td>\n",
       "      <td>8.000000</td>\n",
       "      <td>216.000000</td>\n",
       "      <td>4.400000</td>\n",
       "      <td>4.206900e+04</td>\n",
       "      <td>14.000000</td>\n",
       "      <td>4.600000</td>\n",
       "      <td>20.000000</td>\n",
       "      <td>18.000000</td>\n",
       "      <td>...</td>\n",
       "      <td>0.000000</td>\n",
       "      <td>0.000000</td>\n",
       "      <td>0.000000</td>\n",
       "      <td>0.000000</td>\n",
       "      <td>0.000000</td>\n",
       "      <td>0.000000</td>\n",
       "      <td>0.000000</td>\n",
       "      <td>0.000000</td>\n",
       "      <td>0.000000</td>\n",
       "      <td>0.000000</td>\n",
       "    </tr>\n",
       "    <tr>\n",
       "      <th>75%</th>\n",
       "      <td>0.917000</td>\n",
       "      <td>71.298000</td>\n",
       "      <td>16.826383</td>\n",
       "      <td>544.000000</td>\n",
       "      <td>4.700000</td>\n",
       "      <td>7.092200e+04</td>\n",
       "      <td>20.000000</td>\n",
       "      <td>4.900000</td>\n",
       "      <td>26.000000</td>\n",
       "      <td>25.000000</td>\n",
       "      <td>...</td>\n",
       "      <td>0.000000</td>\n",
       "      <td>0.000000</td>\n",
       "      <td>0.000000</td>\n",
       "      <td>0.000000</td>\n",
       "      <td>0.000000</td>\n",
       "      <td>0.000000</td>\n",
       "      <td>0.000000</td>\n",
       "      <td>0.000000</td>\n",
       "      <td>0.000000</td>\n",
       "      <td>0.000000</td>\n",
       "    </tr>\n",
       "    <tr>\n",
       "      <th>max</th>\n",
       "      <td>0.970000</td>\n",
       "      <td>1104.870000</td>\n",
       "      <td>367.000000</td>\n",
       "      <td>7541.000000</td>\n",
       "      <td>5.000000</td>\n",
       "      <td>2.000431e+06</td>\n",
       "      <td>46.000000</td>\n",
       "      <td>5.000000</td>\n",
       "      <td>48.000000</td>\n",
       "      <td>46.000000</td>\n",
       "      <td>...</td>\n",
       "      <td>1.000000</td>\n",
       "      <td>1.000000</td>\n",
       "      <td>1.000000</td>\n",
       "      <td>1.000000</td>\n",
       "      <td>1.000000</td>\n",
       "      <td>1.000000</td>\n",
       "      <td>1.000000</td>\n",
       "      <td>1.000000</td>\n",
       "      <td>1.000000</td>\n",
       "      <td>1.000000</td>\n",
       "    </tr>\n",
       "  </tbody>\n",
       "</table>\n",
       "<p>8 rows × 34 columns</p>\n",
       "</div>"
      ],
      "text/plain": [
       "         creativity    list_price   num_reviews   piece_count  \\\n",
       "count  11683.000000  11683.000000  11683.000000  11683.000000   \n",
       "mean       0.823989     65.628233     16.828478    493.429171   \n",
       "std        0.114042     92.745505     33.873470    825.194767   \n",
       "min        0.516000      2.272400      1.000000      1.000000   \n",
       "25%        0.788000     19.990000      3.000000     97.000000   \n",
       "50%        0.837000     36.587800      8.000000    216.000000   \n",
       "75%        0.917000     71.298000     16.826383    544.000000   \n",
       "max        0.970000   1104.870000    367.000000   7541.000000   \n",
       "\n",
       "       play_star_rating       prod_id       ranking   star_rating  \\\n",
       "count      11683.000000  1.168300e+04  11683.000000  11683.000000   \n",
       "mean           4.337586  5.981620e+04     15.013438      4.514298   \n",
       "std            0.603196  1.638049e+05     10.884040      0.483500   \n",
       "min            1.000000  6.300000e+02      1.000000      1.800000   \n",
       "25%            4.100000  2.103400e+04      5.000000      4.300000   \n",
       "50%            4.400000  4.206900e+04     14.000000      4.600000   \n",
       "75%            4.700000  7.092200e+04     20.000000      4.900000   \n",
       "max            5.000000  2.000431e+06     46.000000      5.000000   \n",
       "\n",
       "             talent    technology      ...         country_GB    country_IE  \\\n",
       "count  11683.000000  11683.000000      ...       11683.000000  11683.000000   \n",
       "mean      19.510913     18.427031      ...           0.049302      0.048532   \n",
       "std       11.619876     10.704840      ...           0.216508      0.214897   \n",
       "min        1.000000      4.000000      ...           0.000000      0.000000   \n",
       "25%       11.000000      7.000000      ...           0.000000      0.000000   \n",
       "50%       20.000000     18.000000      ...           0.000000      0.000000   \n",
       "75%       26.000000     25.000000      ...           0.000000      0.000000   \n",
       "max       48.000000     46.000000      ...           1.000000      1.000000   \n",
       "\n",
       "         country_IT    country_LU    country_NL    country_NO    country_NZ  \\\n",
       "count  11683.000000  11683.000000  11683.000000  11683.000000  11683.000000   \n",
       "mean       0.047077      0.046991      0.049302      0.046991      0.048361   \n",
       "std        0.211813      0.211629      0.216508      0.211629      0.214537   \n",
       "min        0.000000      0.000000      0.000000      0.000000      0.000000   \n",
       "25%        0.000000      0.000000      0.000000      0.000000      0.000000   \n",
       "50%        0.000000      0.000000      0.000000      0.000000      0.000000   \n",
       "75%        0.000000      0.000000      0.000000      0.000000      0.000000   \n",
       "max        1.000000      1.000000      1.000000      1.000000      1.000000   \n",
       "\n",
       "         country_PL    country_PT    country_US  \n",
       "count  11683.000000  11683.000000  11683.000000  \n",
       "mean       0.045365      0.046820      0.069931  \n",
       "std        0.208112      0.211263      0.255041  \n",
       "min        0.000000      0.000000      0.000000  \n",
       "25%        0.000000      0.000000      0.000000  \n",
       "50%        0.000000      0.000000      0.000000  \n",
       "75%        0.000000      0.000000      0.000000  \n",
       "max        1.000000      1.000000      1.000000  \n",
       "\n",
       "[8 rows x 34 columns]"
      ]
     },
     "execution_count": 23,
     "metadata": {},
     "output_type": "execute_result"
    }
   ],
   "source": [
    "dfd.describe()"
   ]
  },
  {
   "cell_type": "markdown",
   "metadata": {
    "slideshow": {
     "slide_type": "slide"
    }
   },
   "source": [
    "From our exploratory data analysis using dfd.corr() and a seaborn heatmap, we can observe the following:\n",
    "- Weak correlation between data points from the LEGO dataset with the GCI datasets. As such, we do not have the support to be able to accept the earlier stated hypothesis\n",
    "- There is a strong correlation between the target - list_price, with the features - difficulty_challenging, prod_id, piece_count, num_reviews"
   ]
  },
  {
   "cell_type": "code",
   "execution_count": 24,
   "metadata": {
    "slideshow": {
     "slide_type": "subslide"
    }
   },
   "outputs": [
    {
     "data": {
      "text/plain": [
       "<matplotlib.axes._subplots.AxesSubplot at 0x10aa16d30>"
      ]
     },
     "execution_count": 24,
     "metadata": {},
     "output_type": "execute_result"
    },
    {
     "data": {
      "image/png": "[encoded data removed]",
      "text/plain": [
       "<Figure size 1800x1800 with 2 Axes>"
      ]
     },
     "metadata": {},
     "output_type": "display_data"
    }
   ],
   "source": [
    "f,ax=plt.subplots(figsize=(25,25))\n",
    "mask = np.zeros_like(dfd.corr(), dtype=np.bool)\n",
    "mask[np.triu_indices_from(mask)] = True\n",
    "sns.heatmap(dfd.corr(), mask=mask, cmap = 'coolwarm', annot=True, ax=ax, linewidth=.5)"
   ]
  },
  {
   "cell_type": "markdown",
   "metadata": {
    "slideshow": {
     "slide_type": "slide"
    }
   },
   "source": [
    "## Building the Machine Learning Models\n",
    "#### Creating the training and testing sets\n",
    "<img src=\"Lego_08.jpg\" alt=\"LEGO Office\" title=\"LEGO Office\"/>"
   ]
  },
  {
   "cell_type": "code",
   "execution_count": 25,
   "metadata": {
    "slideshow": {
     "slide_type": "subslide"
    }
   },
   "outputs": [],
   "source": [
    "from sklearn import metrics\n",
    "\n",
    "dfx = dfd.copy()\n",
    "not_features=['list_price','ages','prod_long_desc', 'set_name', 'theme_name']\n",
    "X = dfx.drop(columns=not_features)\n",
    "y = dfd.list_price\n",
    "\n",
    "from sklearn.model_selection import train_test_split\n",
    "from sklearn import metrics\n",
    "\n",
    "X_train, X_test, y_train, y_test = train_test_split(X, y, random_state=99, test_size=0.25)"
   ]
  },
  {
   "cell_type": "markdown",
   "metadata": {
    "slideshow": {
     "slide_type": "slide"
    }
   },
   "source": [
    "#### Applying Machine Learning\n",
    "##### Linear Regression"
   ]
  },
  {
   "cell_type": "code",
   "execution_count": 26,
   "metadata": {
    "slideshow": {
     "slide_type": "subslide"
    }
   },
   "outputs": [
    {
     "name": "stdout",
     "output_type": "stream",
     "text": [
      "80.95 %\n",
      "MAE: 19.67617910978036\n",
      "MSE: 1637.016852843065\n",
      "RMSE: 40.460064913974925\n"
     ]
    }
   ],
   "source": [
    "linreg = LinearRegression()\n",
    "linreg.fit(X_train, y_train)\n",
    "\n",
    "y_pred_lr = linreg.predict(X_test)\n",
    "\n",
    "\n",
    "acc_lr = round(linreg.score(X_train,y_train) * 100, 2)\n",
    "print(round(acc_lr,2,), \"%\")\n",
    "print('MAE:', metrics.mean_absolute_error(y_test,y_pred_lr))\n",
    "print('MSE:', metrics.mean_squared_error(y_test,y_pred_lr))\n",
    "print('RMSE:', np.sqrt(metrics.mean_squared_error(y_test,y_pred_lr)))"
   ]
  },
  {
   "cell_type": "markdown",
   "metadata": {
    "slideshow": {
     "slide_type": "slide"
    }
   },
   "source": [
    "##### Random Forest Regressor"
   ]
  },
  {
   "cell_type": "code",
   "execution_count": 27,
   "metadata": {
    "slideshow": {
     "slide_type": "subslide"
    }
   },
   "outputs": [
    {
     "name": "stdout",
     "output_type": "stream",
     "text": [
      "99.75 %\n",
      "MAE: 3.6113165657879738\n",
      "MSE: 87.58623460946794\n",
      "RMSE: 9.358751765565103\n"
     ]
    }
   ],
   "source": [
    "random_forest = RandomForestRegressor(n_estimators=100)\n",
    "random_forest.fit(X_train, y_train)\n",
    "\n",
    "y_pred_rf = random_forest.predict(X_test)\n",
    "\n",
    "acc_random_forest = round(random_forest.score(X_train, y_train) * 100, 2)\n",
    "print(round(acc_random_forest,2,), \"%\")\n",
    "print('MAE:', metrics.mean_absolute_error(y_test,y_pred_rf))\n",
    "print('MSE:', metrics.mean_squared_error(y_test,y_pred_rf))\n",
    "print('RMSE:', np.sqrt(metrics.mean_squared_error(y_test,y_pred_rf)))"
   ]
  },
  {
   "cell_type": "markdown",
   "metadata": {
    "slideshow": {
     "slide_type": "slide"
    }
   },
   "source": [
    "##### Nearest Neighbors Regression\n",
    "###### Finding k"
   ]
  },
  {
   "cell_type": "code",
   "execution_count": 28,
   "metadata": {
    "slideshow": {
     "slide_type": "subslide"
    }
   },
   "outputs": [
    {
     "name": "stdout",
     "output_type": "stream",
     "text": [
      "RMSE value for k=  1 is: 21.7048244305962\n",
      "RMSE value for k=  2 is: 17.27552916440555\n",
      "RMSE value for k=  3 is: 15.441703139885853\n",
      "RMSE value for k=  4 is: 15.000579570225138\n",
      "RMSE value for k=  5 is: 14.535943572680454\n",
      "RMSE value for k=  6 is: 14.56284181596041\n",
      "RMSE value for k=  7 is: 14.281185826637156\n",
      "RMSE value for k=  8 is: 14.61132610408024\n",
      "RMSE value for k=  9 is: 14.637550889881963\n",
      "RMSE value for k=  10 is: 14.855854707096437\n",
      "RMSE value for k=  11 is: 15.106592875401695\n",
      "RMSE value for k=  12 is: 15.598170358644715\n",
      "RMSE value for k=  13 is: 16.654602792578725\n",
      "RMSE value for k=  14 is: 17.970616657716896\n",
      "RMSE value for k=  15 is: 19.176664471875796\n",
      "RMSE value for k=  16 is: 20.379656169013735\n",
      "RMSE value for k=  17 is: 21.654862699446987\n",
      "RMSE value for k=  18 is: 23.00099439461778\n",
      "RMSE value for k=  19 is: 24.270765267315973\n",
      "RMSE value for k=  20 is: 25.49168317414352\n"
     ]
    }
   ],
   "source": [
    "rmse=[]\n",
    "for k in range(20):\n",
    "    k=k+1\n",
    "    knn=neighbors.KNeighborsRegressor(n_neighbors = k)\n",
    "\n",
    "    knn.fit(X_train, y_train)\n",
    "    y_pred_knn=knn.predict(X_test)\n",
    "    error = sqrt(mean_squared_error(y_test,y_pred_knn))\n",
    "    rmse.append(error)\n",
    "    print('RMSE value for k= ' , k , 'is:', error)"
   ]
  },
  {
   "cell_type": "code",
   "execution_count": 29,
   "metadata": {
    "slideshow": {
     "slide_type": "skip"
    }
   },
   "outputs": [
    {
     "data": {
      "text/plain": [
       "<matplotlib.axes._subplots.AxesSubplot at 0x1a1f5cbb38>"
      ]
     },
     "execution_count": 29,
     "metadata": {},
     "output_type": "execute_result"
    },
    {
     "data": {
      "image/png": "[encoded data removed]",
      "text/plain": [
       "<Figure size 432x288 with 1 Axes>"
      ]
     },
     "metadata": {},
     "output_type": "display_data"
    }
   ],
   "source": [
    "curve = pd.DataFrame(rmse)\n",
    "curve.plot()"
   ]
  },
  {
   "cell_type": "markdown",
   "metadata": {
    "slideshow": {
     "slide_type": "subslide"
    }
   },
   "source": [
    "###### Applying k to find the accuracy"
   ]
  },
  {
   "cell_type": "code",
   "execution_count": 30,
   "metadata": {
    "slideshow": {
     "slide_type": "subslide"
    }
   },
   "outputs": [
    {
     "name": "stdout",
     "output_type": "stream",
     "text": [
      "97.68 %\n",
      "MAE: 6.836947909228737\n",
      "MSE: 203.95226861494197\n",
      "RMSE: 14.281185826637156\n"
     ]
    }
   ],
   "source": [
    "knn = neighbors.KNeighborsRegressor(n_neighbors = 7)\n",
    "knn.fit(X_train, y_train)\n",
    "\n",
    "y_pred_knn = knn.predict(X_test)\n",
    "\n",
    "acc_knn = round(knn.score(X_train, y_train) * 100, 2)\n",
    "print(round(acc_knn,2,), \"%\")\n",
    "print('MAE:', metrics.mean_absolute_error(y_test,y_pred_knn))\n",
    "print('MSE:', metrics.mean_squared_error(y_test,y_pred_knn))\n",
    "print('RMSE:', np.sqrt(metrics.mean_squared_error(y_test,y_pred_knn)))"
   ]
  },
  {
   "cell_type": "markdown",
   "metadata": {
    "slideshow": {
     "slide_type": "subslide"
    }
   },
   "source": [
    "> From the above, we can see that the Random Forest Regressor performs better than the linear regression and nearest neighbor regression."
   ]
  },
  {
   "cell_type": "markdown",
   "metadata": {
    "slideshow": {
     "slide_type": "slide"
    }
   },
   "source": [
    "## K-Fold Cross Validation\n",
    "#### Five-fold Cross Validation"
   ]
  },
  {
   "cell_type": "code",
   "execution_count": 31,
   "metadata": {
    "slideshow": {
     "slide_type": "subslide"
    }
   },
   "outputs": [
    {
     "name": "stdout",
     "output_type": "stream",
     "text": [
      "CROSS VALIDATION each fold:\n",
      "Model 1\n",
      "RMSE: 9.92555163675574\n",
      "R2: 0.9896284225483656\n",
      "\n",
      "Model 2\n",
      "RMSE: 14.055239219836558\n",
      "R2: 0.9659996843891182\n",
      "\n",
      "Model 3\n",
      "RMSE: 11.176828487912632\n",
      "R2: 0.987167804600718\n",
      "\n",
      "Model 4\n",
      "RMSE: 11.212958624759851\n",
      "R2: 0.9910742565719959\n",
      "\n",
      "Model 5\n",
      "RMSE: 11.951441516812766\n",
      "R2: 0.9835144728127526\n",
      "\n",
      "SUMMARY OF CROSS VALIDATION\n",
      "Mean of RMSE for all folds: 11.664403897215509\n",
      "Mean of R2 for all folds: 0.9834769281845901\n"
     ]
    }
   ],
   "source": [
    "from sklearn import model_selection\n",
    "\n",
    "kf = model_selection.KFold(n_splits=5, shuffle=True)\n",
    "\n",
    "rmse_rf = []\n",
    "scores = []\n",
    "n = 0\n",
    "\n",
    "print('CROSS VALIDATION each fold:')\n",
    "for train_index, test_index in kf.split(X_train, y_train):\n",
    "    rf  = RandomForestRegressor().fit(X.iloc[train_index], y.iloc[train_index])\n",
    "    \n",
    "    rmse_rf.append(np.sqrt(metrics.mean_squared_error(y.iloc[test_index], rf.predict(X.iloc[test_index]))))\n",
    "    scores.append(rf.score(X, y))\n",
    "    \n",
    "    n += 1\n",
    "    \n",
    "    print('Model {}'.format(n))\n",
    "    print('RMSE: {}'.format(rmse_rf[n-1]))\n",
    "    print('R2: {}\\n'.format(scores[n-1])) \n",
    "    #print('Coefficients: \\n', lr.coef_)\n",
    "\n",
    "print(\"SUMMARY OF CROSS VALIDATION\")\n",
    "print('Mean of RMSE for all folds: {}'.format(np.mean(rmse_rf)))\n",
    "print('Mean of R2 for all folds: {}'.format(np.mean(scores)))"
   ]
  },
  {
   "cell_type": "markdown",
   "metadata": {
    "slideshow": {
     "slide_type": "slide"
    }
   },
   "source": [
    "#### Ten-fold Cross Validation"
   ]
  },
  {
   "cell_type": "code",
   "execution_count": 32,
   "metadata": {
    "slideshow": {
     "slide_type": "subslide"
    }
   },
   "outputs": [
    {
     "name": "stdout",
     "output_type": "stream",
     "text": [
      "CROSS VALIDATION each fold:\n",
      "Model 1\n",
      "RMSE: 13.67736879210593\n",
      "R2: 0.988866371652437\n",
      "\n",
      "Model 2\n",
      "RMSE: 9.968283084277287\n",
      "R2: 0.9803276969750675\n",
      "\n",
      "Model 3\n",
      "RMSE: 12.359815359719788\n",
      "R2: 0.9915041282528012\n",
      "\n",
      "Model 4\n",
      "RMSE: 9.545161023495009\n",
      "R2: 0.9893122092208291\n",
      "\n",
      "Model 5\n",
      "RMSE: 16.673526463339037\n",
      "R2: 0.9821072184122017\n",
      "\n",
      "Model 6\n",
      "RMSE: 9.664732734560737\n",
      "R2: 0.9876186755420282\n",
      "\n",
      "Model 7\n",
      "RMSE: 9.290613884744673\n",
      "R2: 0.9854577666261861\n",
      "\n",
      "Model 8\n",
      "RMSE: 12.244745661628645\n",
      "R2: 0.9911577898260089\n",
      "\n",
      "Model 9\n",
      "RMSE: 27.005509779647554\n",
      "R2: 0.9426845149191005\n",
      "\n",
      "Model 10\n",
      "RMSE: 10.317599364975319\n",
      "R2: 0.9887751083265404\n",
      "\n",
      "SUMMARY OF CROSS VALIDATION\n",
      "Mean of RMSE for all folds: 13.074735614849397\n",
      "Mean of R2 for all folds: 0.9827811479753201\n"
     ]
    }
   ],
   "source": [
    "from sklearn import model_selection\n",
    "\n",
    "kf = model_selection.KFold(n_splits=10, shuffle=True)\n",
    "\n",
    "rmse_rf = []\n",
    "scores = []\n",
    "n = 0\n",
    "\n",
    "print('CROSS VALIDATION each fold:')\n",
    "for train_index, test_index in kf.split(X_train, y_train):\n",
    "    rf  = RandomForestRegressor().fit(X.iloc[train_index], y.iloc[train_index])\n",
    "    \n",
    "    rmse_rf.append(np.sqrt(metrics.mean_squared_error(y.iloc[test_index], rf.predict(X.iloc[test_index]))))\n",
    "    scores.append(rf.score(X, y))\n",
    "    \n",
    "    n += 1\n",
    "    \n",
    "    print('Model {}'.format(n))\n",
    "    print('RMSE: {}'.format(rmse_rf[n-1]))\n",
    "    print('R2: {}\\n'.format(scores[n-1])) \n",
    "    #print('Coefficients: \\n', lr.coef_)\n",
    "\n",
    "print(\"SUMMARY OF CROSS VALIDATION\")\n",
    "print('Mean of RMSE for all folds: {}'.format(np.mean(rmse_rf)))\n",
    "print('Mean of R2 for all folds: {}'.format(np.mean(scores)))"
   ]
  },
  {
   "cell_type": "markdown",
   "metadata": {
    "slideshow": {
     "slide_type": "subslide"
    }
   },
   "source": [
    "Using five-fold cross validation and ten-fold cross validation, RMSE across the models are relatively close to the RMSE mean and high R2 across the models and comparable to the model score."
   ]
  },
  {
   "cell_type": "markdown",
   "metadata": {
    "slideshow": {
     "slide_type": "slide"
    }
   },
   "source": [
    "#### Using Random Forest Importance to Tune Linear Regression\n",
    "##### Getting and summarizing feature importance"
   ]
  },
  {
   "cell_type": "code",
   "execution_count": 33,
   "metadata": {
    "slideshow": {
     "slide_type": "subslide"
    }
   },
   "outputs": [
    {
     "data": {
      "text/html": [
       "<div>\n",
       "<style scoped>\n",
       "    .dataframe tbody tr th:only-of-type {\n",
       "        vertical-align: middle;\n",
       "    }\n",
       "\n",
       "    .dataframe tbody tr th {\n",
       "        vertical-align: top;\n",
       "    }\n",
       "\n",
       "    .dataframe thead th {\n",
       "        text-align: right;\n",
       "    }\n",
       "</style>\n",
       "<table border=\"1\" class=\"dataframe\">\n",
       "  <thead>\n",
       "    <tr style=\"text-align: right;\">\n",
       "      <th></th>\n",
       "      <th>importance</th>\n",
       "    </tr>\n",
       "    <tr>\n",
       "      <th>feature</th>\n",
       "      <th></th>\n",
       "    </tr>\n",
       "  </thead>\n",
       "  <tbody>\n",
       "    <tr>\n",
       "      <th>piece_count</th>\n",
       "      <td>0.768</td>\n",
       "    </tr>\n",
       "    <tr>\n",
       "      <th>prod_id</th>\n",
       "      <td>0.132</td>\n",
       "    </tr>\n",
       "    <tr>\n",
       "      <th>val_star_rating</th>\n",
       "      <td>0.043</td>\n",
       "    </tr>\n",
       "    <tr>\n",
       "      <th>num_reviews</th>\n",
       "      <td>0.024</td>\n",
       "    </tr>\n",
       "    <tr>\n",
       "      <th>star_rating</th>\n",
       "      <td>0.009</td>\n",
       "    </tr>\n",
       "    <tr>\n",
       "      <th>play_star_rating</th>\n",
       "      <td>0.005</td>\n",
       "    </tr>\n",
       "    <tr>\n",
       "      <th>creativity</th>\n",
       "      <td>0.003</td>\n",
       "    </tr>\n",
       "    <tr>\n",
       "      <th>tolerance</th>\n",
       "      <td>0.003</td>\n",
       "    </tr>\n",
       "    <tr>\n",
       "      <th>ranking</th>\n",
       "      <td>0.002</td>\n",
       "    </tr>\n",
       "    <tr>\n",
       "      <th>talent</th>\n",
       "      <td>0.002</td>\n",
       "    </tr>\n",
       "  </tbody>\n",
       "</table>\n",
       "</div>"
      ],
      "text/plain": [
       "                  importance\n",
       "feature                     \n",
       "piece_count            0.768\n",
       "prod_id                0.132\n",
       "val_star_rating        0.043\n",
       "num_reviews            0.024\n",
       "star_rating            0.009\n",
       "play_star_rating       0.005\n",
       "creativity             0.003\n",
       "tolerance              0.003\n",
       "ranking                0.002\n",
       "talent                 0.002"
      ]
     },
     "execution_count": 33,
     "metadata": {},
     "output_type": "execute_result"
    }
   ],
   "source": [
    "importances = pd.DataFrame({'feature':X_train.columns,'importance':np.round(random_forest.feature_importances_,3)})\n",
    "importances = importances.sort_values('importance',ascending=False).set_index('feature')\n",
    "importances.head(10)"
   ]
  },
  {
   "cell_type": "markdown",
   "metadata": {
    "slideshow": {
     "slide_type": "subslide"
    }
   },
   "source": [
    "##### Using the features and creating the linear regression model"
   ]
  },
  {
   "cell_type": "code",
   "execution_count": 34,
   "metadata": {
    "slideshow": {
     "slide_type": "subslide"
    }
   },
   "outputs": [
    {
     "name": "stdout",
     "output_type": "stream",
     "text": [
      "75.83 %\n",
      "MAE: 20.390070101168355\n",
      "MSE: 2067.2354091378365\n",
      "RMSE: 45.466860559509016\n"
     ]
    }
   ],
   "source": [
    "dfz = dfd.copy()\n",
    "features=['piece_count','val_star_rating','num_reviews']\n",
    "\n",
    "Xz = dfz[features]\n",
    "yz = dfd.list_price\n",
    "\n",
    "X_train, X_test, y_train, y_test = train_test_split(Xz, yz, random_state=99, test_size=0.25)\n",
    "\n",
    "linreg = LinearRegression()\n",
    "linreg.fit(X_train, y_train)\n",
    "\n",
    "y_pred_lr = linreg.predict(X_test)\n",
    "\n",
    "\n",
    "acc_lr = round(linreg.score(X_train,y_train) * 100, 2)\n",
    "print(round(acc_lr,2,), \"%\")\n",
    "print('MAE:', metrics.mean_absolute_error(y_test,y_pred_lr))\n",
    "print('MSE:', metrics.mean_squared_error(y_test,y_pred_lr))\n",
    "print('RMSE:', np.sqrt(metrics.mean_squared_error(y_test,y_pred_lr)))"
   ]
  },
  {
   "cell_type": "markdown",
   "metadata": {
    "slideshow": {
     "slide_type": "slide"
    }
   },
   "source": [
    "## Conclusions and Recommendations\n",
    "> On the first hypothesis, we have seen there is no strong relationship between LEGO and creativity.\n",
    "\n",
    "> On the second hypothesis, we have been able to create a model that can help predict the price of a LEGO set - and also knowing that the key features that will determine the price are piece_count, val_star_rating, num_reviews, and difficulty.\n",
    "\n",
    "> It would be good to find a dataset to see if we can have a stronger relationship between LEGO and creativity and be able to predict the ranking of the market based on the features of this combined data set.\n",
    "\n",
    "<img src=\"Lego_09.gif\" alt=\"LEGO Saying\" title=\"LEGO Saying\" width=\"300\" class=\"center\">"
   ]
  },
  {
   "cell_type": "markdown",
   "metadata": {
    "slideshow": {
     "slide_type": "slide"
    }
   },
   "source": [
    "\n",
    "<img src=\"LinkedIn.jpeg\"/><img src=\"Lego_07.jpg\" alt=\"LEGO End\" title=\"LEGO End\"/>"
   ]
  }
 ],
 "metadata": {
  "celltoolbar": "Slideshow",
  "kernelspec": {
   "display_name": "Python 3",
   "language": "python",
   "name": "python3"
  },
  "language_info": {
   "codemirror_mode": {
    "name": "ipython",
    "version": 3
   },
   "file_extension": ".py",
   "mimetype": "text/x-python",
   "name": "python",
   "nbconvert_exporter": "python",
   "pygments_lexer": "ipython3",
   "version": "3.6.5"
  }
 },
 "nbformat": 4,
 "nbformat_minor": 2
}
